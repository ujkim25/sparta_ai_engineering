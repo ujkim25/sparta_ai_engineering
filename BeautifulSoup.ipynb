{
  "nbformat": 4,
  "nbformat_minor": 0,
  "metadata": {
    "colab": {
      "provenance": [],
      "authorship_tag": "ABX9TyMDDDdEiMjkQwfHTNyMu+aj",
      "include_colab_link": true
    },
    "kernelspec": {
      "name": "python3",
      "display_name": "Python 3"
    },
    "language_info": {
      "name": "python"
    }
  },
  "cells": [
    {
      "cell_type": "markdown",
      "metadata": {
        "id": "view-in-github",
        "colab_type": "text"
      },
      "source": [
        "<a href=\"https://colab.research.google.com/github/ujkim25/sparta_ai_engineering/blob/main/BeautifulSoup.ipynb\" target=\"_parent\"><img src=\"https://colab.research.google.com/assets/colab-badge.svg\" alt=\"Open In Colab\"/></a>"
      ]
    },
    {
      "cell_type": "code",
      "execution_count": 1,
      "metadata": {
        "colab": {
          "base_uri": "https://localhost:8080/"
        },
        "id": "LNJZM8KHBCkT",
        "outputId": "28bfaa34-d4be-4143-f209-a4754cc24c11"
      },
      "outputs": [
        {
          "output_type": "stream",
          "name": "stdout",
          "text": [
            "HTML 예제:\n",
            "\n",
            "<!DOCTYPE html>\n",
            "<html>\n",
            "<head>\n",
            "    <title>페이지 제목</title>\n",
            "</head>\n",
            "<body>\n",
            "    <h1 id=\"main-title\">메인 제목</h1>\n",
            "    <h2 class=\"subtitle\">부제목</h2>\n",
            "    <p class=\"content\">이것은 단락입니다.</p>\n",
            "    <div class=\"container\">\n",
            "        <p>컨테이너 안의 단락</p>\n",
            "        <a href=\"https://example.com\">링크</a>\n",
            "    </div>\n",
            "    <ul>\n",
            "        <li>목록 항목 1</li>\n",
            "        <li>목록 항목 2</li>\n",
            "    </ul>\n",
            "</body>\n",
            "</html>\n",
            "\n"
          ]
        }
      ],
      "source": [
        "# 간단한 HTML 예제\n",
        "html_example = \"\"\"\n",
        "<!DOCTYPE html>\n",
        "<html>\n",
        "<head>\n",
        "    <title>페이지 제목</title>\n",
        "</head>\n",
        "<body>\n",
        "    <h1 id=\"main-title\">메인 제목</h1>\n",
        "    <h2 class=\"subtitle\">부제목</h2>\n",
        "    <p class=\"content\">이것은 단락입니다.</p>\n",
        "    <div class=\"container\">\n",
        "        <p>컨테이너 안의 단락</p>\n",
        "        <a href=\"https://example.com\">링크</a>\n",
        "    </div>\n",
        "    <ul>\n",
        "        <li>목록 항목 1</li>\n",
        "        <li>목록 항목 2</li>\n",
        "    </ul>\n",
        "</body>\n",
        "</html>\n",
        "\"\"\"\n",
        "\n",
        "print(\"HTML 예제:\")\n",
        "print(html_example)"
      ]
    },
    {
      "cell_type": "code",
      "source": [
        "!pip install beautifulsoup4 lxml"
      ],
      "metadata": {
        "colab": {
          "base_uri": "https://localhost:8080/"
        },
        "id": "ANUha_9tCVbf",
        "outputId": "7f166178-309c-482c-e022-06b4ebdb12f2"
      },
      "execution_count": 2,
      "outputs": [
        {
          "output_type": "stream",
          "name": "stdout",
          "text": [
            "Requirement already satisfied: beautifulsoup4 in /usr/local/lib/python3.12/dist-packages (4.13.5)\n",
            "Requirement already satisfied: lxml in /usr/local/lib/python3.12/dist-packages (5.4.0)\n",
            "Requirement already satisfied: soupsieve>1.2 in /usr/local/lib/python3.12/dist-packages (from beautifulsoup4) (2.8)\n",
            "Requirement already satisfied: typing-extensions>=4.0.0 in /usr/local/lib/python3.12/dist-packages (from beautifulsoup4) (4.15.0)\n"
          ]
        }
      ]
    },
    {
      "cell_type": "code",
      "source": [
        "from bs4 import BeautifulSoup\n",
        "import requests"
      ],
      "metadata": {
        "id": "oe2y93G8Dwqy"
      },
      "execution_count": 3,
      "outputs": []
    },
    {
      "cell_type": "code",
      "source": [
        "soup = BeautifulSoup(html_example, \"html.parser\")"
      ],
      "metadata": {
        "id": "YzWWuhwgD1cD"
      },
      "execution_count": 4,
      "outputs": []
    },
    {
      "cell_type": "code",
      "source": [
        "type(soup)"
      ],
      "metadata": {
        "colab": {
          "base_uri": "https://localhost:8080/",
          "height": 221
        },
        "id": "dKbghi22EFWi",
        "outputId": "522ae410-323e-4a1a-982e-a565931ac54f"
      },
      "execution_count": 5,
      "outputs": [
        {
          "output_type": "execute_result",
          "data": {
            "text/plain": [
              "bs4.BeautifulSoup"
            ],
            "text/html": [
              "<div style=\"max-width:800px; border: 1px solid var(--colab-border-color);\"><style>\n",
              "      pre.function-repr-contents {\n",
              "        overflow-x: auto;\n",
              "        padding: 8px 12px;\n",
              "        max-height: 500px;\n",
              "      }\n",
              "\n",
              "      pre.function-repr-contents.function-repr-contents-collapsed {\n",
              "        cursor: pointer;\n",
              "        max-height: 100px;\n",
              "      }\n",
              "    </style>\n",
              "    <pre style=\"white-space: initial; background:\n",
              "         var(--colab-secondary-surface-color); padding: 8px 12px;\n",
              "         border-bottom: 1px solid var(--colab-border-color);\"><b>bs4.BeautifulSoup</b><br/>def __call__(name: Optional[_StrainableElement]=None, attrs: _StrainableAttributes={}, recursive: bool=True, string: Optional[_StrainableString]=None, limit: Optional[int]=None, _stacklevel: int=2, **kwargs: _StrainableAttribute) -&gt; _QueryResults</pre><pre class=\"function-repr-contents function-repr-contents-collapsed\" style=\"\"><a class=\"filepath\" style=\"display:none\" href=\"#\">/usr/local/lib/python3.12/dist-packages/bs4/__init__.py</a>A data structure representing a parsed HTML or XML document.\n",
              "\n",
              "Most of the methods you&#x27;ll call on a BeautifulSoup object are inherited from\n",
              "PageElement or Tag.\n",
              "\n",
              "Internally, this class defines the basic interface called by the\n",
              "tree builders when converting an HTML/XML document into a data\n",
              "structure. The interface abstracts away the differences between\n",
              "parsers. To write a new tree builder, you&#x27;ll need to understand\n",
              "these methods as a whole.\n",
              "\n",
              "These methods will be called by the BeautifulSoup constructor:\n",
              "  * reset()\n",
              "  * feed(markup)\n",
              "\n",
              "The tree builder may call these methods from its feed() implementation:\n",
              "  * handle_starttag(name, attrs) # See note about return value\n",
              "  * handle_endtag(name)\n",
              "  * handle_data(data) # Appends to the current data node\n",
              "  * endData(containerClass) # Ends the current data node\n",
              "\n",
              "No matter how complicated the underlying parser is, you should be\n",
              "able to build a tree using &#x27;start tag&#x27; events, &#x27;end tag&#x27; events,\n",
              "&#x27;data&#x27; events, and &quot;done with data&quot; events.\n",
              "\n",
              "If you encounter an empty-element tag (aka a self-closing tag,\n",
              "like HTML&#x27;s &lt;br&gt; tag), call handle_starttag and then\n",
              "handle_endtag.</pre>\n",
              "      <script>\n",
              "      if (google.colab.kernel.accessAllowed && google.colab.files && google.colab.files.view) {\n",
              "        for (const element of document.querySelectorAll('.filepath')) {\n",
              "          element.style.display = 'block'\n",
              "          element.onclick = (event) => {\n",
              "            event.preventDefault();\n",
              "            event.stopPropagation();\n",
              "            google.colab.files.view(element.textContent, 135);\n",
              "          };\n",
              "        }\n",
              "      }\n",
              "      for (const element of document.querySelectorAll('.function-repr-contents')) {\n",
              "        element.onclick = (event) => {\n",
              "          event.preventDefault();\n",
              "          event.stopPropagation();\n",
              "          element.classList.toggle('function-repr-contents-collapsed');\n",
              "        };\n",
              "      }\n",
              "      </script>\n",
              "      </div>"
            ]
          },
          "metadata": {},
          "execution_count": 5
        }
      ]
    },
    {
      "cell_type": "code",
      "source": [
        "print(soup.prettify())"
      ],
      "metadata": {
        "colab": {
          "base_uri": "https://localhost:8080/"
        },
        "id": "QqQTDH0nEKGT",
        "outputId": "1008c9f8-e82c-4ae2-e6a8-9d51effb03c7"
      },
      "execution_count": 7,
      "outputs": [
        {
          "output_type": "stream",
          "name": "stdout",
          "text": [
            "<!DOCTYPE html>\n",
            "<html>\n",
            " <head>\n",
            "  <title>\n",
            "   페이지 제목\n",
            "  </title>\n",
            " </head>\n",
            " <body>\n",
            "  <h1 id=\"main-title\">\n",
            "   메인 제목\n",
            "  </h1>\n",
            "  <h2 class=\"subtitle\">\n",
            "   부제목\n",
            "  </h2>\n",
            "  <p class=\"content\">\n",
            "   이것은 단락입니다.\n",
            "  </p>\n",
            "  <div class=\"container\">\n",
            "   <p>\n",
            "    컨테이너 안의 단락\n",
            "   </p>\n",
            "   <a href=\"https://example.com\">\n",
            "    링크\n",
            "   </a>\n",
            "  </div>\n",
            "  <ul>\n",
            "   <li>\n",
            "    목록 항목 1\n",
            "   </li>\n",
            "   <li>\n",
            "    목록 항목 2\n",
            "   </li>\n",
            "  </ul>\n",
            " </body>\n",
            "</html>\n",
            "\n"
          ]
        }
      ]
    },
    {
      "cell_type": "code",
      "source": [
        "html_simple = \"<p>간단한 HTML</p>\"\n",
        "\n",
        "soup_html = BeautifulSoup(html_simple, \"html.parser\")"
      ],
      "metadata": {
        "id": "G1mULeQnENfG"
      },
      "execution_count": 8,
      "outputs": []
    },
    {
      "cell_type": "code",
      "source": [
        "soup_html"
      ],
      "metadata": {
        "colab": {
          "base_uri": "https://localhost:8080/"
        },
        "id": "Xp18Jd49EocO",
        "outputId": "1721e334-dda4-4f33-80a9-5bf84bcb6498"
      },
      "execution_count": 9,
      "outputs": [
        {
          "output_type": "execute_result",
          "data": {
            "text/plain": [
              "<p>간단한 HTML</p>"
            ]
          },
          "metadata": {},
          "execution_count": 9
        }
      ]
    },
    {
      "cell_type": "code",
      "source": [
        "soup"
      ],
      "metadata": {
        "colab": {
          "base_uri": "https://localhost:8080/"
        },
        "id": "hjC5cccnEpOg",
        "outputId": "46757aeb-0122-4cf9-e990-03e5a900a61e"
      },
      "execution_count": 10,
      "outputs": [
        {
          "output_type": "execute_result",
          "data": {
            "text/plain": [
              "\n",
              "<!DOCTYPE html>\n",
              "\n",
              "<html>\n",
              "<head>\n",
              "<title>페이지 제목</title>\n",
              "</head>\n",
              "<body>\n",
              "<h1 id=\"main-title\">메인 제목</h1>\n",
              "<h2 class=\"subtitle\">부제목</h2>\n",
              "<p class=\"content\">이것은 단락입니다.</p>\n",
              "<div class=\"container\">\n",
              "<p>컨테이너 안의 단락</p>\n",
              "<a href=\"https://example.com\">링크</a>\n",
              "</div>\n",
              "<ul>\n",
              "<li>목록 항목 1</li>\n",
              "<li>목록 항목 2</li>\n",
              "</ul>\n",
              "</body>\n",
              "</html>"
            ]
          },
          "metadata": {},
          "execution_count": 10
        }
      ]
    },
    {
      "cell_type": "code",
      "source": [
        "h1_tag = soup.find(\"h1\")\n",
        "\n",
        "p_tag = soup.find(\"p\")"
      ],
      "metadata": {
        "id": "8L0psrHSEq7q"
      },
      "execution_count": 12,
      "outputs": []
    },
    {
      "cell_type": "code",
      "source": [
        "h1_tag, p_tag"
      ],
      "metadata": {
        "colab": {
          "base_uri": "https://localhost:8080/"
        },
        "id": "rXYUJmMVE6HN",
        "outputId": "696eddba-54c0-4225-afc1-f24f97318088"
      },
      "execution_count": 13,
      "outputs": [
        {
          "output_type": "execute_result",
          "data": {
            "text/plain": [
              "(<h1 id=\"main-title\">메인 제목</h1>, <p class=\"content\">이것은 단락입니다.</p>)"
            ]
          },
          "metadata": {},
          "execution_count": 13
        }
      ]
    },
    {
      "cell_type": "code",
      "source": [
        "all_p_tags = soup.find_all(\"p\")"
      ],
      "metadata": {
        "id": "7mytr0CCFHTs"
      },
      "execution_count": 14,
      "outputs": []
    },
    {
      "cell_type": "code",
      "source": [
        "all_p_tags"
      ],
      "metadata": {
        "colab": {
          "base_uri": "https://localhost:8080/"
        },
        "id": "svjdTlN9FR6a",
        "outputId": "0e817b7a-1059-4c93-f2bf-a98301cd647c"
      },
      "execution_count": 15,
      "outputs": [
        {
          "output_type": "execute_result",
          "data": {
            "text/plain": [
              "[<p class=\"content\">이것은 단락입니다.</p>, <p>컨테이너 안의 단락</p>]"
            ]
          },
          "metadata": {},
          "execution_count": 15
        }
      ]
    },
    {
      "cell_type": "code",
      "source": [
        "main_title = soup.find(\"h1\", id=\"main-title\")"
      ],
      "metadata": {
        "id": "fpXWt12pFUiF"
      },
      "execution_count": 16,
      "outputs": []
    },
    {
      "cell_type": "code",
      "source": [
        "main_title"
      ],
      "metadata": {
        "colab": {
          "base_uri": "https://localhost:8080/"
        },
        "id": "uzYMQzi1GCMC",
        "outputId": "9a840270-a897-4917-d71b-f1ea76c0aa68"
      },
      "execution_count": 17,
      "outputs": [
        {
          "output_type": "execute_result",
          "data": {
            "text/plain": [
              "<h1 id=\"main-title\">메인 제목</h1>"
            ]
          },
          "metadata": {},
          "execution_count": 17
        }
      ]
    },
    {
      "cell_type": "code",
      "source": [
        "subtitle = soup.find(\"h2\", class_=\"subtitle\") # class는 파이썬의 예약어이기 때문에 class_\n",
        "subtitle"
      ],
      "metadata": {
        "colab": {
          "base_uri": "https://localhost:8080/"
        },
        "id": "CBcO_wG8GDEV",
        "outputId": "10714164-818f-4fcb-d42f-17d2dd7852b3"
      },
      "execution_count": 18,
      "outputs": [
        {
          "output_type": "execute_result",
          "data": {
            "text/plain": [
              "<h2 class=\"subtitle\">부제목</h2>"
            ]
          },
          "metadata": {},
          "execution_count": 18
        }
      ]
    },
    {
      "cell_type": "code",
      "source": [
        "content_p = soup.find(\"p\", {\"class\":\"content\"})\n",
        "content_p"
      ],
      "metadata": {
        "colab": {
          "base_uri": "https://localhost:8080/"
        },
        "id": "mOmIRL1aGVHT",
        "outputId": "1ff8851f-dc23-4141-cd0f-8fa854fcf270"
      },
      "execution_count": 19,
      "outputs": [
        {
          "output_type": "execute_result",
          "data": {
            "text/plain": [
              "<p class=\"content\">이것은 단락입니다.</p>"
            ]
          },
          "metadata": {},
          "execution_count": 19
        }
      ]
    },
    {
      "cell_type": "code",
      "source": [
        "link = soup.find(\"a\")\n",
        "link.get(\"href\")"
      ],
      "metadata": {
        "colab": {
          "base_uri": "https://localhost:8080/",
          "height": 35
        },
        "id": "JKCBoCmvGlkL",
        "outputId": "10de2f62-f921-4534-f7fc-567d49ae3635"
      },
      "execution_count": 20,
      "outputs": [
        {
          "output_type": "execute_result",
          "data": {
            "text/plain": [
              "'https://example.com'"
            ],
            "application/vnd.google.colaboratory.intrinsic+json": {
              "type": "string"
            }
          },
          "metadata": {},
          "execution_count": 20
        }
      ]
    },
    {
      "cell_type": "code",
      "source": [
        "link"
      ],
      "metadata": {
        "colab": {
          "base_uri": "https://localhost:8080/"
        },
        "id": "0FrxKFw5Gxvy",
        "outputId": "d846f7c3-6ce3-4f29-89d2-8ce550bad576"
      },
      "execution_count": 21,
      "outputs": [
        {
          "output_type": "execute_result",
          "data": {
            "text/plain": [
              "<a href=\"https://example.com\">링크</a>"
            ]
          },
          "metadata": {},
          "execution_count": 21
        }
      ]
    },
    {
      "cell_type": "code",
      "source": [
        "title_by_css = soup.select_one(\"#main-title\") #id를 가져온다. id는 하나만 존재한다\n",
        "title_by_css"
      ],
      "metadata": {
        "colab": {
          "base_uri": "https://localhost:8080/"
        },
        "id": "PYvd2wyWGzzU",
        "outputId": "2f122c3e-ebb5-4003-bc66-19e90d93142c"
      },
      "execution_count": 22,
      "outputs": [
        {
          "output_type": "execute_result",
          "data": {
            "text/plain": [
              "<h1 id=\"main-title\">메인 제목</h1>"
            ]
          },
          "metadata": {},
          "execution_count": 22
        }
      ]
    },
    {
      "cell_type": "code",
      "source": [
        "subtitle_by_css = soup.select_one(\".subtitle\") #class를 가져온다. class는 꾸밈 규칙\n",
        "subtitle_by_css"
      ],
      "metadata": {
        "colab": {
          "base_uri": "https://localhost:8080/"
        },
        "id": "xh2TidItHQvO",
        "outputId": "26d43dee-3840-4eec-a4e1-1211b43f3cc4"
      },
      "execution_count": 23,
      "outputs": [
        {
          "output_type": "execute_result",
          "data": {
            "text/plain": [
              "<h2 class=\"subtitle\">부제목</h2>"
            ]
          },
          "metadata": {},
          "execution_count": 23
        }
      ]
    },
    {
      "cell_type": "code",
      "source": [
        "all_p_by_css = soup.select(\"p\")\n",
        "all_p_by_css"
      ],
      "metadata": {
        "colab": {
          "base_uri": "https://localhost:8080/"
        },
        "id": "kWJI2zJGHgPb",
        "outputId": "c0fbaa55-4dfe-44c0-92f8-922238d81e14"
      },
      "execution_count": 24,
      "outputs": [
        {
          "output_type": "execute_result",
          "data": {
            "text/plain": [
              "[<p class=\"content\">이것은 단락입니다.</p>, <p>컨테이너 안의 단락</p>]"
            ]
          },
          "metadata": {},
          "execution_count": 24
        }
      ]
    },
    {
      "cell_type": "code",
      "source": [
        "container_p = soup.select(\".container p\") #container 클래스 안에서의 p태그"
      ],
      "metadata": {
        "id": "uOVB2XPMHvaj"
      },
      "execution_count": 27,
      "outputs": []
    },
    {
      "cell_type": "code",
      "source": [
        "container_p"
      ],
      "metadata": {
        "colab": {
          "base_uri": "https://localhost:8080/"
        },
        "id": "w7MYIedrIM8M",
        "outputId": "dc73fe27-6fde-4bc2-b5db-ba9cd4761b63"
      },
      "execution_count": 28,
      "outputs": [
        {
          "output_type": "execute_result",
          "data": {
            "text/plain": [
              "[<p>컨테이너 안의 단락</p>]"
            ]
          },
          "metadata": {},
          "execution_count": 28
        }
      ]
    },
    {
      "cell_type": "code",
      "source": [
        "li_tags = soup.select(\"ul li\")"
      ],
      "metadata": {
        "id": "BDqzrJEOINqY"
      },
      "execution_count": 29,
      "outputs": []
    },
    {
      "cell_type": "code",
      "source": [
        "li_tags"
      ],
      "metadata": {
        "colab": {
          "base_uri": "https://localhost:8080/"
        },
        "id": "Nzm3Ke14IfIS",
        "outputId": "c505ffcb-bcb5-47c7-80a0-06d617a5e1df"
      },
      "execution_count": 30,
      "outputs": [
        {
          "output_type": "execute_result",
          "data": {
            "text/plain": [
              "[<li>목록 항목 1</li>, <li>목록 항목 2</li>]"
            ]
          },
          "metadata": {},
          "execution_count": 30
        }
      ]
    },
    {
      "cell_type": "code",
      "source": [
        "h1_element = soup.find(\"h1\")\n",
        "h1_element"
      ],
      "metadata": {
        "colab": {
          "base_uri": "https://localhost:8080/"
        },
        "id": "PZwUw79yIf3c",
        "outputId": "e625a3c7-2e78-407a-eaa0-733acee21aa0"
      },
      "execution_count": 31,
      "outputs": [
        {
          "output_type": "execute_result",
          "data": {
            "text/plain": [
              "<h1 id=\"main-title\">메인 제목</h1>"
            ]
          },
          "metadata": {},
          "execution_count": 31
        }
      ]
    },
    {
      "cell_type": "code",
      "source": [
        "h1_element.get_text()"
      ],
      "metadata": {
        "colab": {
          "base_uri": "https://localhost:8080/",
          "height": 35
        },
        "id": "zqphuEBHMJ9P",
        "outputId": "71507a52-2dae-4127-deff-00b0ec554f54"
      },
      "execution_count": 32,
      "outputs": [
        {
          "output_type": "execute_result",
          "data": {
            "text/plain": [
              "'메인 제목'"
            ],
            "application/vnd.google.colaboratory.intrinsic+json": {
              "type": "string"
            }
          },
          "metadata": {},
          "execution_count": 32
        }
      ]
    },
    {
      "cell_type": "code",
      "source": [
        "h1_element.text"
      ],
      "metadata": {
        "colab": {
          "base_uri": "https://localhost:8080/",
          "height": 35
        },
        "id": "nQ64DcvJMNSx",
        "outputId": "956c4538-c5c9-45a6-e735-c092f0bac0bc"
      },
      "execution_count": 33,
      "outputs": [
        {
          "output_type": "execute_result",
          "data": {
            "text/plain": [
              "'메인 제목'"
            ],
            "application/vnd.google.colaboratory.intrinsic+json": {
              "type": "string"
            }
          },
          "metadata": {},
          "execution_count": 33
        }
      ]
    },
    {
      "cell_type": "code",
      "source": [
        "all_li = soup.find_all(\"li\")\n",
        "print(all_li)\n",
        "for li in all_li:\n",
        "    print(li)\n",
        "    print(f\"- {li.get_text()}\")"
      ],
      "metadata": {
        "colab": {
          "base_uri": "https://localhost:8080/"
        },
        "id": "ObZnKuysMSdh",
        "outputId": "777413f8-4cef-4acc-d867-9c0a39032b1a"
      },
      "execution_count": 35,
      "outputs": [
        {
          "output_type": "stream",
          "name": "stdout",
          "text": [
            "[<li>목록 항목 1</li>, <li>목록 항목 2</li>]\n",
            "<li>목록 항목 1</li>\n",
            "- 목록 항목 1\n",
            "<li>목록 항목 2</li>\n",
            "- 목록 항목 2\n"
          ]
        }
      ]
    },
    {
      "cell_type": "code",
      "source": [
        "container = soup.find(\"div\", class_=\"container\")\n",
        "soup.find\n",
        "container"
      ],
      "metadata": {
        "colab": {
          "base_uri": "https://localhost:8080/"
        },
        "id": "J3_eiotoMkog",
        "outputId": "24dab1d3-e08e-491d-b335-b8f933c8e8ce"
      },
      "execution_count": 36,
      "outputs": [
        {
          "output_type": "execute_result",
          "data": {
            "text/plain": [
              "<div class=\"container\">\n",
              "<p>컨테이너 안의 단락</p>\n",
              "<a href=\"https://example.com\">링크</a>\n",
              "</div>"
            ]
          },
          "metadata": {},
          "execution_count": 36
        }
      ]
    },
    {
      "cell_type": "code",
      "source": [
        "container.get_text()"
      ],
      "metadata": {
        "colab": {
          "base_uri": "https://localhost:8080/",
          "height": 35
        },
        "id": "i6tGKPSuM35j",
        "outputId": "071b0f8c-c49e-4dad-feb2-d4bbfa3831b6"
      },
      "execution_count": 37,
      "outputs": [
        {
          "output_type": "execute_result",
          "data": {
            "text/plain": [
              "'\\n컨테이너 안의 단락\\n링크\\n'"
            ],
            "application/vnd.google.colaboratory.intrinsic+json": {
              "type": "string"
            }
          },
          "metadata": {},
          "execution_count": 37
        }
      ]
    },
    {
      "cell_type": "code",
      "source": [
        "container.get_text(separator=\" | \")"
      ],
      "metadata": {
        "colab": {
          "base_uri": "https://localhost:8080/",
          "height": 35
        },
        "id": "m8iiqnVzM_lx",
        "outputId": "a9b3bfa4-44c9-4930-f5c8-224bc9c13bf7"
      },
      "execution_count": 39,
      "outputs": [
        {
          "output_type": "execute_result",
          "data": {
            "text/plain": [
              "'\\n | 컨테이너 안의 단락 | \\n | 링크 | \\n'"
            ],
            "application/vnd.google.colaboratory.intrinsic+json": {
              "type": "string"
            }
          },
          "metadata": {},
          "execution_count": 39
        }
      ]
    },
    {
      "cell_type": "code",
      "source": [
        "import copy\n",
        "container_copy = copy.deepcopy(container)\n",
        "# 변수의 메모리 상에 존재하는 id가 새로워짐, 독립적이 됨"
      ],
      "metadata": {
        "id": "iBGxgGMKNEdw"
      },
      "execution_count": 41,
      "outputs": []
    },
    {
      "cell_type": "code",
      "source": [
        "container_copy"
      ],
      "metadata": {
        "colab": {
          "base_uri": "https://localhost:8080/"
        },
        "id": "vS_A9rgvNlKq",
        "outputId": "5d78fde6-2e67-4b7d-cf26-0f1c87fecdb3"
      },
      "execution_count": 42,
      "outputs": [
        {
          "output_type": "execute_result",
          "data": {
            "text/plain": [
              "<div class=\"container\">\n",
              "<p>컨테이너 안의 단락</p>\n",
              "<a href=\"https://example.com\">링크</a>\n",
              "</div>"
            ]
          },
          "metadata": {},
          "execution_count": 42
        }
      ]
    },
    {
      "cell_type": "code",
      "source": [
        "for a_tag in container_copy.find_all(\"a\"):\n",
        "    a_tag.decompose()"
      ],
      "metadata": {
        "id": "ayom-0omN-dj"
      },
      "execution_count": 43,
      "outputs": []
    },
    {
      "cell_type": "code",
      "source": [
        "container_copy"
      ],
      "metadata": {
        "colab": {
          "base_uri": "https://localhost:8080/"
        },
        "id": "9ikDYvpgOIIT",
        "outputId": "2e6384a1-75b4-4097-ef14-e1a59c7bd882"
      },
      "execution_count": 44,
      "outputs": [
        {
          "output_type": "execute_result",
          "data": {
            "text/plain": [
              "<div class=\"container\">\n",
              "<p>컨테이너 안의 단락</p>\n",
              "\n",
              "</div>"
            ]
          },
          "metadata": {},
          "execution_count": 44
        }
      ]
    },
    {
      "cell_type": "markdown",
      "source": [
        "find\n",
        "find_all\n",
        "태그를 사용해서 가져온다\n",
        "select\n",
        "select_one\n",
        ".id나 #클래스를 사용해서 가져온다"
      ],
      "metadata": {
        "id": "AP4l7yW-OdHf"
      }
    },
    {
      "cell_type": "code",
      "source": [
        "news_html = \"\"\"\n",
        "<article class=\"news-article\">\n",
        "    <header>\n",
        "        <h1 class=\"title\">Python으로 웹 스크래핑 배우기</h1>\n",
        "        <div class=\"meta\">\n",
        "            <span class=\"author\">작성자: 김개발</span>\n",
        "            <span class=\"date\">2024-01-15</span>\n",
        "        </div>\n",
        "    </header>\n",
        "    <div class=\"content\">\n",
        "        <p class=\"summary\">이 기사에서는 Python의 BeautifulSoup을 사용한 웹 스크래핑 방법을 알아봅니다.</p>\n",
        "        <p>웹 스크래핑은 웹페이지에서 데이터를 자동으로 추출하는 기술입니다.</p>\n",
        "        <p>BeautifulSoup은 HTML을 파싱하는 강력한 도구입니다.</p>\n",
        "    </div>\n",
        "    <footer>\n",
        "        <div class=\"tags\">\n",
        "            <span class=\"tag\">Python</span>\n",
        "            <span class=\"tag\">웹스크래핑</span>\n",
        "            <span class=\"tag\">BeautifulSoup</span>\n",
        "        </div>\n",
        "    </footer>\n",
        "</article>\n",
        "\"\"\""
      ],
      "metadata": {
        "id": "aU6XWwujOJZV"
      },
      "execution_count": 48,
      "outputs": []
    },
    {
      "cell_type": "code",
      "source": [
        "soup = BeautifulSoup(news_html, \"html.parser\")"
      ],
      "metadata": {
        "id": "qMM8g0xzPzDW"
      },
      "execution_count": 50,
      "outputs": []
    },
    {
      "cell_type": "code",
      "source": [
        "title = soup.select_one(\".title\").text\n",
        "print(title)\n",
        "\n",
        "author = soup.find(\"span\", class_=\"author\").text.split(\":\")[-1].strip()\n",
        "print(author)\n",
        "\n",
        "date = soup.select_one(\"div .date\").text\n",
        "print(date)\n",
        "\n",
        "date1 = soup.select_one(\"span.date\").text\n",
        "print(date1)\n",
        "\n",
        "tags = soup.select(\"div .tag\")\n",
        "for tag in tags:\n",
        "    print(tag.text, end=\" \")"
      ],
      "metadata": {
        "colab": {
          "base_uri": "https://localhost:8080/"
        },
        "id": "hRO8fDkgO3S3",
        "outputId": "9e891713-115e-4e5e-996a-a6c5c64a92dc"
      },
      "execution_count": 82,
      "outputs": [
        {
          "output_type": "stream",
          "name": "stdout",
          "text": [
            "Python으로 웹 스크래핑 배우기\n",
            "김개발\n",
            "2024-01-15\n",
            "2024-01-15\n",
            "Python 웹스크래핑 BeautifulSoup "
          ]
        }
      ]
    },
    {
      "cell_type": "code",
      "source": [],
      "metadata": {
        "id": "1YkPt7MXPO6g"
      },
      "execution_count": null,
      "outputs": []
    }
  ]
}