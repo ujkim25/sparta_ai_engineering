{
  "nbformat": 4,
  "nbformat_minor": 0,
  "metadata": {
    "colab": {
      "provenance": [],
      "authorship_tag": "ABX9TyNC5GxibP7izalS7ixzP4cm",
      "include_colab_link": true
    },
    "kernelspec": {
      "name": "python3",
      "display_name": "Python 3"
    },
    "language_info": {
      "name": "python"
    }
  },
  "cells": [
    {
      "cell_type": "markdown",
      "metadata": {
        "id": "view-in-github",
        "colab_type": "text"
      },
      "source": [
        "<a href=\"https://colab.research.google.com/github/ujkim25/sparta_ai_engineering/blob/main/clova_OCR.ipynb\" target=\"_parent\"><img src=\"https://colab.research.google.com/assets/colab-badge.svg\" alt=\"Open In Colab\"/></a>"
      ]
    },
    {
      "cell_type": "code",
      "execution_count": 1,
      "metadata": {
        "id": "KxDPoupYtXjK"
      },
      "outputs": [],
      "source": [
        "import requests\n",
        "import uuid\n",
        "import time\n",
        "import base64\n",
        "import json\n",
        "import os"
      ]
    },
    {
      "cell_type": "code",
      "source": [
        "api_url = \"https://qxyeblxwhj.apigw.ntruss.com/custom/v1/47213/7d6654d1d16c8bf835f5f034852d556070510ad6449ae39b9963de0dc277b02a/general\"\n",
        "secret_key = \"UnNlaWV2aVp1RUV5UmNkY0VVQmRzWkxzTlhvRHpyZ2Q=\""
      ],
      "metadata": {
        "id": "-zelI7FduDBW"
      },
      "execution_count": 2,
      "outputs": []
    },
    {
      "cell_type": "code",
      "source": [
        "#image_file = \"sample_doc.pdf\"\n",
        "#image_file = \"ocr_1.jpg\"\n",
        "image_file = \"chinese_tra.jpg\"\n",
        "with open(image_file,\"rb\") as f:\n",
        "    file_data=f.read()"
      ],
      "metadata": {
        "id": "o2EEBOqzuNEs"
      },
      "execution_count": 28,
      "outputs": []
    },
    {
      "cell_type": "code",
      "source": [
        "request_json = {\n",
        "    \"images\": [\n",
        "        {\n",
        "            \"format\": \"jpg\",\n",
        "            \"name\": \"demo\",\n",
        "            \"data\": base64.b64encode(file_data).decode()\n",
        "        }\n",
        "    ],\n",
        "    \"requestId\": str(uuid.uuid4()),\n",
        "    \"version\": \"V2\" ,\n",
        "    \"timestamp\": int( round( time.time() * 1000 ) )\n",
        "}"
      ],
      "metadata": {
        "id": "tpxxe-_DugOb"
      },
      "execution_count": 29,
      "outputs": []
    },
    {
      "cell_type": "code",
      "source": [
        "payload = json.dumps(request_json).encode(\"UTF-8\")\n",
        "headers = {\n",
        "    \"X-OCR-SECRET\": secret_key,\n",
        "    \"Content-Type\": \"application/json\"\n",
        "}"
      ],
      "metadata": {
        "id": "gvmukChHvhlO"
      },
      "execution_count": 30,
      "outputs": []
    },
    {
      "cell_type": "code",
      "source": [
        "response = requests.request(\"POST\", api_url, headers=headers, data = payload)"
      ],
      "metadata": {
        "id": "RDyA-YXYv5ns"
      },
      "execution_count": 31,
      "outputs": []
    },
    {
      "cell_type": "code",
      "source": [
        "response.json()"
      ],
      "metadata": {
        "colab": {
          "base_uri": "https://localhost:8080/"
        },
        "id": "INqsM4JSwBBy",
        "outputId": "904a12d3-c858-4575-d8e3-9549530464e6"
      },
      "execution_count": 32,
      "outputs": [
        {
          "output_type": "execute_result",
          "data": {
            "text/plain": [
              "{'version': 'V2',\n",
              " 'requestId': '82d4fc5c-94c3-4ad3-ae20-79643b7c51c1',\n",
              " 'timestamp': 1761654400104,\n",
              " 'images': [{'uid': '2d126f16b64b48b88ed62ee88aa52736',\n",
              "   'name': 'demo',\n",
              "   'inferResult': 'SUCCESS',\n",
              "   'message': 'SUCCESS',\n",
              "   'validationResult': {'result': 'NO_REQUESTED'},\n",
              "   'convertedImageInfo': {'width': 512,\n",
              "    'height': 327,\n",
              "    'pageIndex': 0,\n",
              "    'longImage': False},\n",
              "   'fields': [{'valueType': 'ALL',\n",
              "     'boundingPoly': {'vertices': [{'x': 228.0, 'y': 58.0},\n",
              "       {'x': 459.0, 'y': 64.0},\n",
              "       {'x': 458.0, 'y': 117.0},\n",
              "       {'x': 226.0, 'y': 111.0}]},\n",
              "     'inferText': '2020-2002',\n",
              "     'inferConfidence': 0.4387,\n",
              "     'type': 'NORMAL',\n",
              "     'lineBreak': True},\n",
              "    {'valueType': 'ALL',\n",
              "     'boundingPoly': {'vertices': [{'x': 229.0, 'y': 109.0},\n",
              "       {'x': 314.0, 'y': 112.0},\n",
              "       {'x': 313.0, 'y': 143.0},\n",
              "       {'x': 228.0, 'y': 141.0}]},\n",
              "     'inferText': 'HSR',\n",
              "     'inferConfidence': 0.9993,\n",
              "     'type': 'NORMAL',\n",
              "     'lineBreak': False},\n",
              "    {'valueType': 'ALL',\n",
              "     'boundingPoly': {'vertices': [{'x': 334.0, 'y': 113.0},\n",
              "       {'x': 462.0, 'y': 118.0},\n",
              "       {'x': 461.0, 'y': 148.0},\n",
              "       {'x': 333.0, 'y': 143.0}]},\n",
              "     'inferText': 'Station',\n",
              "     'inferConfidence': 0.9984,\n",
              "     'type': 'NORMAL',\n",
              "     'lineBreak': True},\n",
              "    {'valueType': 'ALL',\n",
              "     'boundingPoly': {'vertices': [{'x': 165.0, 'y': 212.0},\n",
              "       {'x': 224.0, 'y': 212.0},\n",
              "       {'x': 224.0, 'y': 240.0},\n",
              "       {'x': 165.0, 'y': 240.0}]},\n",
              "     'inferText': 'Car',\n",
              "     'inferConfidence': 0.9998,\n",
              "     'type': 'NORMAL',\n",
              "     'lineBreak': False},\n",
              "    {'valueType': 'ALL',\n",
              "     'boundingPoly': {'vertices': [{'x': 245.0, 'y': 213.0},\n",
              "       {'x': 314.0, 'y': 216.0},\n",
              "       {'x': 313.0, 'y': 244.0},\n",
              "       {'x': 244.0, 'y': 241.0}]},\n",
              "     'inferText': 'Kiss',\n",
              "     'inferConfidence': 0.9998,\n",
              "     'type': 'NORMAL',\n",
              "     'lineBreak': False},\n",
              "    {'valueType': 'ALL',\n",
              "     'boundingPoly': {'vertices': [{'x': 326.0, 'y': 216.0},\n",
              "       {'x': 382.0, 'y': 216.0},\n",
              "       {'x': 382.0, 'y': 243.0},\n",
              "       {'x': 326.0, 'y': 243.0}]},\n",
              "     'inferText': 'and',\n",
              "     'inferConfidence': 0.9999,\n",
              "     'type': 'NORMAL',\n",
              "     'lineBreak': False},\n",
              "    {'valueType': 'ALL',\n",
              "     'boundingPoly': {'vertices': [{'x': 399.0, 'y': 216.0},\n",
              "       {'x': 469.0, 'y': 218.0},\n",
              "       {'x': 468.0, 'y': 246.0},\n",
              "       {'x': 399.0, 'y': 245.0}]},\n",
              "     'inferText': 'Ride',\n",
              "     'inferConfidence': 0.9995,\n",
              "     'type': 'NORMAL',\n",
              "     'lineBreak': True}]}]}"
            ]
          },
          "metadata": {},
          "execution_count": 32
        }
      ]
    },
    {
      "cell_type": "code",
      "source": [
        "response.json()[\"images\"][0][\"fields\"][0]"
      ],
      "metadata": {
        "colab": {
          "base_uri": "https://localhost:8080/"
        },
        "id": "OhojtGvSwDSR",
        "outputId": "568a89c8-31da-4400-f944-2d4c4bed1b20"
      },
      "execution_count": 33,
      "outputs": [
        {
          "output_type": "execute_result",
          "data": {
            "text/plain": [
              "{'valueType': 'ALL',\n",
              " 'boundingPoly': {'vertices': [{'x': 228.0, 'y': 58.0},\n",
              "   {'x': 459.0, 'y': 64.0},\n",
              "   {'x': 458.0, 'y': 117.0},\n",
              "   {'x': 226.0, 'y': 111.0}]},\n",
              " 'inferText': '2020-2002',\n",
              " 'inferConfidence': 0.4387,\n",
              " 'type': 'NORMAL',\n",
              " 'lineBreak': True}"
            ]
          },
          "metadata": {},
          "execution_count": 33
        }
      ]
    },
    {
      "cell_type": "code",
      "source": [
        "infered_text = []\n",
        "\n",
        "for item in response.json()[\"images\"][0][\"fields\"]:\n",
        "    #print(item[\"inferText\"])\n",
        "    infered_text.append(item[\"inferText\"])"
      ],
      "metadata": {
        "id": "-sRtMvq3wS76"
      },
      "execution_count": 34,
      "outputs": []
    },
    {
      "cell_type": "code",
      "source": [
        "output_text = \" \".join(infered_text)"
      ],
      "metadata": {
        "id": "ua_KwSGLxeoE"
      },
      "execution_count": 35,
      "outputs": []
    },
    {
      "cell_type": "code",
      "source": [
        "output_text"
      ],
      "metadata": {
        "colab": {
          "base_uri": "https://localhost:8080/",
          "height": 36
        },
        "id": "DFBoEz_QxncL",
        "outputId": "d11455ea-f81d-4be4-c493-50a538078016"
      },
      "execution_count": 36,
      "outputs": [
        {
          "output_type": "execute_result",
          "data": {
            "text/plain": [
              "'2020-2002 HSR Station Car Kiss and Ride'"
            ],
            "application/vnd.google.colaboratory.intrinsic+json": {
              "type": "string"
            }
          },
          "metadata": {},
          "execution_count": 36
        }
      ]
    },
    {
      "cell_type": "code",
      "source": [],
      "metadata": {
        "id": "cAxxnxfSyOiI"
      },
      "execution_count": null,
      "outputs": []
    }
  ]
}