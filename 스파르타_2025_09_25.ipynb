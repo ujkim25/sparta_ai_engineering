{
  "nbformat": 4,
  "nbformat_minor": 0,
  "metadata": {
    "colab": {
      "provenance": [],
      "authorship_tag": "ABX9TyN+LArb7MdXAn8znpTzbrtI",
      "include_colab_link": true
    },
    "kernelspec": {
      "name": "python3",
      "display_name": "Python 3"
    },
    "language_info": {
      "name": "python"
    }
  },
  "cells": [
    {
      "cell_type": "markdown",
      "metadata": {
        "id": "view-in-github",
        "colab_type": "text"
      },
      "source": [
        "<a href=\"https://colab.research.google.com/github/ujkim25/sparta_ai_engineering/blob/main/%EC%8A%A4%ED%8C%8C%EB%A5%B4%ED%83%80_2025_09_25.ipynb\" target=\"_parent\"><img src=\"https://colab.research.google.com/assets/colab-badge.svg\" alt=\"Open In Colab\"/></a>"
      ]
    },
    {
      "cell_type": "code",
      "execution_count": 2,
      "metadata": {
        "id": "F6XBYmYxiW1k"
      },
      "outputs": [],
      "source": [
        "def greet():\n",
        "    print(\"안녕하세요\")\n",
        "    print(\"함수는 유용해요\")\n",
        "    print(\"=\"*30)"
      ]
    },
    {
      "cell_type": "code",
      "source": [
        "greet()"
      ],
      "metadata": {
        "colab": {
          "base_uri": "https://localhost:8080/"
        },
        "id": "yYqY3FXmnADS",
        "outputId": "76205648-02ca-461b-8ac1-7a6cf3edfd7e"
      },
      "execution_count": 3,
      "outputs": [
        {
          "output_type": "stream",
          "name": "stdout",
          "text": [
            "안녕하세요\n",
            "함수는 유용해요\n",
            "==============================\n"
          ]
        }
      ]
    },
    {
      "cell_type": "code",
      "source": [
        "def greet_person(name):\n",
        "    print(f\"안녕하세요, {name}님\")"
      ],
      "metadata": {
        "id": "7XZvJWq_nGxe"
      },
      "execution_count": 6,
      "outputs": []
    },
    {
      "cell_type": "code",
      "source": [
        "greet_person(\"김우진\")"
      ],
      "metadata": {
        "colab": {
          "base_uri": "https://localhost:8080/"
        },
        "id": "LL82huO3oD8C",
        "outputId": "903646c0-801c-4c20-b1fa-b36684c95c88"
      },
      "execution_count": 7,
      "outputs": [
        {
          "output_type": "stream",
          "name": "stdout",
          "text": [
            "안녕하세요, 김우진님\n"
          ]
        }
      ]
    },
    {
      "cell_type": "code",
      "source": [
        "greet_person(name=\"김명진\")"
      ],
      "metadata": {
        "colab": {
          "base_uri": "https://localhost:8080/"
        },
        "id": "wvwP-g8aoFtW",
        "outputId": "3c719d85-b01d-4c38-e065-e8d31ee7b5f0"
      },
      "execution_count": 8,
      "outputs": [
        {
          "output_type": "stream",
          "name": "stdout",
          "text": [
            "안녕하세요, 김명진님\n"
          ]
        }
      ]
    },
    {
      "cell_type": "code",
      "source": [
        "def introduce(name,age):\n",
        "    print(f\"제 이름은 {name}이고 나이는 {age}입니다.\")"
      ],
      "metadata": {
        "id": "wBZ3fwfQoMIE"
      },
      "execution_count": 10,
      "outputs": []
    },
    {
      "cell_type": "code",
      "source": [
        "introduce(\"김우진\",25)"
      ],
      "metadata": {
        "colab": {
          "base_uri": "https://localhost:8080/"
        },
        "id": "QK4AIQS4oPFL",
        "outputId": "6def72d1-5608-46d6-9362-02fda43d627f"
      },
      "execution_count": 11,
      "outputs": [
        {
          "output_type": "stream",
          "name": "stdout",
          "text": [
            "제 이름은 김우진이고 나이는 25입니다.\n"
          ]
        }
      ]
    },
    {
      "cell_type": "code",
      "source": [
        "def calculate(width,height):\n",
        "    area=width*height\n",
        "    print(area,width,height)"
      ],
      "metadata": {
        "id": "UDYzob0uoYC6"
      },
      "execution_count": 12,
      "outputs": []
    },
    {
      "cell_type": "code",
      "source": [
        "calculate(10.1,20.3)"
      ],
      "metadata": {
        "colab": {
          "base_uri": "https://localhost:8080/"
        },
        "id": "_nAmMynqoumU",
        "outputId": "f8c93573-ed6e-44e7-e6ea-7c171b95fbea"
      },
      "execution_count": 13,
      "outputs": [
        {
          "output_type": "stream",
          "name": "stdout",
          "text": [
            "205.03 10.1 20.3\n"
          ]
        }
      ]
    },
    {
      "cell_type": "code",
      "source": [
        "def add_numbers(a,b):\n",
        "    result=a+b\n",
        "    return result"
      ],
      "metadata": {
        "id": "RjY-6rszoxrB"
      },
      "execution_count": 14,
      "outputs": []
    },
    {
      "cell_type": "code",
      "source": [
        "add_numbers(3,5)"
      ],
      "metadata": {
        "colab": {
          "base_uri": "https://localhost:8080/"
        },
        "id": "YT11OFUUpDRW",
        "outputId": "dbca43ec-6f61-486d-8bcb-96c7a1c9d445"
      },
      "execution_count": 15,
      "outputs": [
        {
          "output_type": "execute_result",
          "data": {
            "text/plain": [
              "8"
            ]
          },
          "metadata": {},
          "execution_count": 15
        }
      ]
    },
    {
      "cell_type": "code",
      "source": [
        "print(add_numbers(3,5))"
      ],
      "metadata": {
        "colab": {
          "base_uri": "https://localhost:8080/"
        },
        "id": "DftP0hSlpE5F",
        "outputId": "2b5e5edc-b8a3-4300-e718-bc3a364909fd"
      },
      "execution_count": 16,
      "outputs": [
        {
          "output_type": "stream",
          "name": "stdout",
          "text": [
            "8\n"
          ]
        }
      ]
    },
    {
      "cell_type": "code",
      "source": [
        "def add_numbers(a,b):\n",
        "    result=a+b\n",
        "    return result\n",
        "    result_2=a*b"
      ],
      "metadata": {
        "id": "tWt1mty_pHCS"
      },
      "execution_count": 18,
      "outputs": []
    },
    {
      "cell_type": "code",
      "source": [
        "add_numbers(3,5)"
      ],
      "metadata": {
        "colab": {
          "base_uri": "https://localhost:8080/"
        },
        "id": "5-xHA8W8pbnI",
        "outputId": "11f4ca48-45d1-413c-9e92-d6b601c2ef3b"
      },
      "execution_count": 19,
      "outputs": [
        {
          "output_type": "execute_result",
          "data": {
            "text/plain": [
              "8"
            ]
          },
          "metadata": {},
          "execution_count": 19
        }
      ]
    },
    {
      "cell_type": "code",
      "source": [
        "def add_numbers(a,b):\n",
        "    if type(a)==str:\n",
        "        return \"ERROR\"\n",
        "    result=a+b\n",
        "    return result"
      ],
      "metadata": {
        "id": "pyjaJmmGpfhc"
      },
      "execution_count": 20,
      "outputs": []
    },
    {
      "cell_type": "code",
      "source": [
        "add_numbers(3,5)"
      ],
      "metadata": {
        "colab": {
          "base_uri": "https://localhost:8080/"
        },
        "id": "il99ixQ6p4_o",
        "outputId": "fe66e065-bb8a-4d1f-ada5-c6eba93bfd98"
      },
      "execution_count": 21,
      "outputs": [
        {
          "output_type": "execute_result",
          "data": {
            "text/plain": [
              "8"
            ]
          },
          "metadata": {},
          "execution_count": 21
        }
      ]
    },
    {
      "cell_type": "code",
      "source": [
        "add_numbers('3',5)"
      ],
      "metadata": {
        "colab": {
          "base_uri": "https://localhost:8080/",
          "height": 35
        },
        "id": "_xpaVAiIp6Ge",
        "outputId": "3c1408ef-5347-48ff-d193-aa1828da1a1e"
      },
      "execution_count": 22,
      "outputs": [
        {
          "output_type": "execute_result",
          "data": {
            "text/plain": [
              "'ERROR'"
            ],
            "application/vnd.google.colaboratory.intrinsic+json": {
              "type": "string"
            }
          },
          "metadata": {},
          "execution_count": 22
        }
      ]
    },
    {
      "cell_type": "code",
      "source": [
        "def get_grade(score):\n",
        "    if score>=90:\n",
        "        return 'A'\n",
        "    elif score>=80:\n",
        "        return 'B'\n",
        "    elif score>=70:\n",
        "        return 'C'\n",
        "    elif score>=60:\n",
        "        return 'D'\n",
        "    else:\n",
        "        return 'F'"
      ],
      "metadata": {
        "id": "rjH9cKrap8fQ"
      },
      "execution_count": 25,
      "outputs": []
    },
    {
      "cell_type": "code",
      "source": [
        "get_grade(65)"
      ],
      "metadata": {
        "colab": {
          "base_uri": "https://localhost:8080/",
          "height": 35
        },
        "id": "_JXERIk6qRsq",
        "outputId": "0de59341-5e55-4014-f495-e1e3c57914ad"
      },
      "execution_count": 26,
      "outputs": [
        {
          "output_type": "execute_result",
          "data": {
            "text/plain": [
              "'D'"
            ],
            "application/vnd.google.colaboratory.intrinsic+json": {
              "type": "string"
            }
          },
          "metadata": {},
          "execution_count": 26
        }
      ]
    },
    {
      "cell_type": "code",
      "source": [
        "fruits=list([\"사과\",\"딸기\",\"바나나\"])"
      ],
      "metadata": {
        "id": "1Unyl1FMqTkZ"
      },
      "execution_count": 27,
      "outputs": []
    },
    {
      "cell_type": "code",
      "source": [
        "fruits"
      ],
      "metadata": {
        "colab": {
          "base_uri": "https://localhost:8080/"
        },
        "id": "m7VNjk9atV8x",
        "outputId": "bca8ad12-5ff7-43fe-928d-c00f6000b3d4"
      },
      "execution_count": 28,
      "outputs": [
        {
          "output_type": "execute_result",
          "data": {
            "text/plain": [
              "['사과', '딸기', '바나나']"
            ]
          },
          "metadata": {},
          "execution_count": 28
        }
      ]
    },
    {
      "cell_type": "code",
      "source": [
        "a=fruits[0]\n",
        "b=fruits[1]\n",
        "c=fruits[2]"
      ],
      "metadata": {
        "id": "AaUoi_MPtWa7"
      },
      "execution_count": 29,
      "outputs": []
    },
    {
      "cell_type": "code",
      "source": [
        "a,b,c"
      ],
      "metadata": {
        "colab": {
          "base_uri": "https://localhost:8080/"
        },
        "id": "BReyK86Otbr6",
        "outputId": "d1268a62-1932-4032-9566-b4816607f6bc"
      },
      "execution_count": 30,
      "outputs": [
        {
          "output_type": "execute_result",
          "data": {
            "text/plain": [
              "('사과', '딸기', '바나나')"
            ]
          },
          "metadata": {},
          "execution_count": 30
        }
      ]
    },
    {
      "cell_type": "code",
      "source": [
        "aa, bb, cc = ['사과','바나나','오렌지']\n",
        "aa,bb,cc"
      ],
      "metadata": {
        "colab": {
          "base_uri": "https://localhost:8080/"
        },
        "id": "4LdpEU0AtcNR",
        "outputId": "19204899-5dc0-4e1a-b1e7-3d6f1293964f"
      },
      "execution_count": 31,
      "outputs": [
        {
          "output_type": "execute_result",
          "data": {
            "text/plain": [
              "('사과', '바나나', '오렌지')"
            ]
          },
          "metadata": {},
          "execution_count": 31
        }
      ]
    },
    {
      "cell_type": "code",
      "source": [
        "def sum_all(*numbers):\n",
        "    total = 0\n",
        "    for num in numbers:\n",
        "        total += num\n",
        "    return total"
      ],
      "metadata": {
        "id": "vxV13tFZtoN1"
      },
      "execution_count": 32,
      "outputs": []
    },
    {
      "cell_type": "code",
      "source": [
        "sum_all(1,2,3)"
      ],
      "metadata": {
        "colab": {
          "base_uri": "https://localhost:8080/"
        },
        "id": "ovAckdTDt5Qg",
        "outputId": "50fe9848-64de-4afe-b055-ba8edd81667a"
      },
      "execution_count": 33,
      "outputs": [
        {
          "output_type": "execute_result",
          "data": {
            "text/plain": [
              "6"
            ]
          },
          "metadata": {},
          "execution_count": 33
        }
      ]
    },
    {
      "cell_type": "code",
      "source": [
        "def sum_all2(a,b,*numbers):\n",
        "    print(numbers)\n",
        "    total = 0\n",
        "    for num in numbers:\n",
        "        total += num\n",
        "    return total"
      ],
      "metadata": {
        "id": "UDtjGBVdt8a3"
      },
      "execution_count": 36,
      "outputs": []
    },
    {
      "cell_type": "code",
      "source": [
        "sum_all2(1,2,3,4,5)"
      ],
      "metadata": {
        "colab": {
          "base_uri": "https://localhost:8080/"
        },
        "id": "X2UR24sRu4eX",
        "outputId": "d66e447a-3a68-4a0f-af56-ddc8766518ea"
      },
      "execution_count": 37,
      "outputs": [
        {
          "output_type": "stream",
          "name": "stdout",
          "text": [
            "(3, 4, 5)\n"
          ]
        },
        {
          "output_type": "execute_result",
          "data": {
            "text/plain": [
              "12"
            ]
          },
          "metadata": {},
          "execution_count": 37
        }
      ]
    },
    {
      "cell_type": "code",
      "source": [
        "class Person:\n",
        "    def __init__(self,name,age,height):\n",
        "        self.name=name\n",
        "        self.age=age\n",
        "        # height을 받았으면 self.height=height 해주자\n",
        "\n",
        "    def introduce(self):\n",
        "        print(f\"안녕하세요 {self.name}입니다. 나이는 {self.age}입니다\")\n",
        "\n",
        "    def happy_birthday(self):\n",
        "        self.age+=1\n",
        "        print(f\"{self.name}님의 생일입니다. 이제는 {self.age}살이 되었습니다\")\n",
        "\n",
        "    def location(self, 위치):\n",
        "        print(f\"{self.name}은 현재 {위치}에 있습니다\")\n",
        "        self.위치 = 위치"
      ],
      "metadata": {
        "id": "9tMX5Poku6jH"
      },
      "execution_count": 63,
      "outputs": []
    },
    {
      "cell_type": "code",
      "source": [
        "person_1 = Person('김철수',25,180)"
      ],
      "metadata": {
        "id": "tscyvbwLzDTA"
      },
      "execution_count": 64,
      "outputs": []
    },
    {
      "cell_type": "code",
      "source": [
        "print(person_1)"
      ],
      "metadata": {
        "colab": {
          "base_uri": "https://localhost:8080/"
        },
        "id": "FJwE7l3XzUY7",
        "outputId": "4fd44ffc-772e-4bf1-ed9d-9e892a1e6079"
      },
      "execution_count": 45,
      "outputs": [
        {
          "output_type": "stream",
          "name": "stdout",
          "text": [
            "<__main__.Person object at 0x7af3aae283e0>\n"
          ]
        }
      ]
    },
    {
      "cell_type": "code",
      "source": [
        "person_1.name"
      ],
      "metadata": {
        "colab": {
          "base_uri": "https://localhost:8080/",
          "height": 35
        },
        "id": "3ptiTY5PzWFT",
        "outputId": "711dac33-e233-4a26-91c7-434375508d28"
      },
      "execution_count": 46,
      "outputs": [
        {
          "output_type": "execute_result",
          "data": {
            "text/plain": [
              "'김철수'"
            ],
            "application/vnd.google.colaboratory.intrinsic+json": {
              "type": "string"
            }
          },
          "metadata": {},
          "execution_count": 46
        }
      ]
    },
    {
      "cell_type": "code",
      "source": [
        "person_1.age"
      ],
      "metadata": {
        "colab": {
          "base_uri": "https://localhost:8080/"
        },
        "id": "grsfRmBRzkOU",
        "outputId": "1e15cc5b-944e-480d-b895-9c60725b8adb"
      },
      "execution_count": 47,
      "outputs": [
        {
          "output_type": "execute_result",
          "data": {
            "text/plain": [
              "25"
            ]
          },
          "metadata": {},
          "execution_count": 47
        }
      ]
    },
    {
      "cell_type": "code",
      "source": [
        "person_1.introduce()"
      ],
      "metadata": {
        "colab": {
          "base_uri": "https://localhost:8080/"
        },
        "id": "wI4M902AzlUO",
        "outputId": "7fb08acc-21e7-4773-a48c-7c836537c738"
      },
      "execution_count": 48,
      "outputs": [
        {
          "output_type": "stream",
          "name": "stdout",
          "text": [
            "안녕하세요 김철수입니다. 나이는 25입니다\n"
          ]
        }
      ]
    },
    {
      "cell_type": "code",
      "source": [
        "def add_numbers(a,b,c=None):\n",
        "    print(c)\n",
        "    print(a+b)"
      ],
      "metadata": {
        "id": "3j4xCxsM0n5-"
      },
      "execution_count": 52,
      "outputs": []
    },
    {
      "cell_type": "code",
      "source": [
        "add_numbers(1,2)"
      ],
      "metadata": {
        "colab": {
          "base_uri": "https://localhost:8080/"
        },
        "id": "5lnWBGo02SPv",
        "outputId": "d4139c31-0254-42d8-d2ce-d4650cb719b5"
      },
      "execution_count": 53,
      "outputs": [
        {
          "output_type": "stream",
          "name": "stdout",
          "text": [
            "None\n",
            "3\n"
          ]
        }
      ]
    },
    {
      "cell_type": "code",
      "source": [
        "person_1.happy_birthday()"
      ],
      "metadata": {
        "colab": {
          "base_uri": "https://localhost:8080/"
        },
        "id": "I3Cl6JXN2XOp",
        "outputId": "571319aa-24ab-4d49-f863-ff4abd09a3c6"
      },
      "execution_count": 57,
      "outputs": [
        {
          "output_type": "stream",
          "name": "stdout",
          "text": [
            "김철수님의 생일입니다. 이제는 26살이 되었습니다\n"
          ]
        }
      ]
    },
    {
      "cell_type": "code",
      "source": [
        "person_1.age += 1"
      ],
      "metadata": {
        "id": "CHYODW6D2wDj"
      },
      "execution_count": 58,
      "outputs": []
    },
    {
      "cell_type": "code",
      "source": [
        "person_1.age"
      ],
      "metadata": {
        "colab": {
          "base_uri": "https://localhost:8080/"
        },
        "id": "qWYASoqo3BEY",
        "outputId": "ee788176-5074-40ca-c19a-dffca0003648"
      },
      "execution_count": 59,
      "outputs": [
        {
          "output_type": "execute_result",
          "data": {
            "text/plain": [
              "27"
            ]
          },
          "metadata": {},
          "execution_count": 59
        }
      ]
    },
    {
      "cell_type": "markdown",
      "source": [
        "self는 인스턴스 자기 자신을 지칭"
      ],
      "metadata": {
        "id": "IvdtXMLw3El1"
      }
    },
    {
      "cell_type": "code",
      "source": [
        "person_1.location('대한민국')"
      ],
      "metadata": {
        "colab": {
          "base_uri": "https://localhost:8080/"
        },
        "id": "fJhqHHk23Cjq",
        "outputId": "37f6aa5a-12cf-4b69-94ec-494e8e7a16fc"
      },
      "execution_count": 65,
      "outputs": [
        {
          "output_type": "stream",
          "name": "stdout",
          "text": [
            "김철수은 현재 대한민국에 있습니다\n"
          ]
        }
      ]
    },
    {
      "cell_type": "code",
      "source": [
        "person_1.위치"
      ],
      "metadata": {
        "colab": {
          "base_uri": "https://localhost:8080/",
          "height": 35
        },
        "id": "OSnAZ4Tu4lP1",
        "outputId": "354e1d3e-e0e8-4588-8418-185646a56662"
      },
      "execution_count": 66,
      "outputs": [
        {
          "output_type": "execute_result",
          "data": {
            "text/plain": [
              "'대한민국'"
            ],
            "application/vnd.google.colaboratory.intrinsic+json": {
              "type": "string"
            }
          },
          "metadata": {},
          "execution_count": 66
        }
      ]
    },
    {
      "cell_type": "code",
      "source": [
        "class BankAccount:\n",
        "    def __init__(self,owner,initial_balance=0):\n",
        "        self.owner=owner\n",
        "        self.balance=initial_balance\n",
        "        self.transaction_history=[] # 매개변수로 받는 속성 이외에도 자유롭게 정의할 수 있다\n",
        "\n",
        "    def deposit(self, amount):\n",
        "        if amount>0:\n",
        "            self.balance+=amount\n",
        "            self.transaction_history.append(f\"입금: +{amount}원\")\n",
        "            print(f\"{amount}원이 입금되었습니다. 잔액: {self.balance}원\")\n",
        "        else:\n",
        "            print(\"입금액은 0보다 커야합니다\")\n",
        "\n",
        "    def withdraw(self,amount):\n",
        "        if amount>0 and amount <= self.balance:\n",
        "            self.balance -= amount\n",
        "            self.transaction_history.append(f\"출금: -{amount}원\")\n",
        "            print(f\"{amount}원이 출금되었습니다. 잔액: {self.balance}원\")\n",
        "        else:\n",
        "            print(\"출금할 수 없습니다.\")\n",
        "\n",
        "    def get_balance(self): # 조회용의 메소드를 따로 만든다. 외부에서 사용하기 위해\n",
        "        return self.balance\n",
        "\n",
        "    def get_history(self):\n",
        "        return self.transaction_history"
      ],
      "metadata": {
        "id": "Fw_GQyXx492w"
      },
      "execution_count": 92,
      "outputs": []
    },
    {
      "cell_type": "code",
      "source": [
        "account = BankAccount(\"김철수\",initial_balance=100000)"
      ],
      "metadata": {
        "id": "ycl0TKWO6UmU"
      },
      "execution_count": 93,
      "outputs": []
    },
    {
      "cell_type": "code",
      "source": [
        "account.transaction_history"
      ],
      "metadata": {
        "colab": {
          "base_uri": "https://localhost:8080/"
        },
        "id": "dkhXa-Jw6aTF",
        "outputId": "faf29235-efd4-435a-e68b-357733471040"
      },
      "execution_count": 85,
      "outputs": [
        {
          "output_type": "execute_result",
          "data": {
            "text/plain": [
              "[]"
            ]
          },
          "metadata": {},
          "execution_count": 85
        }
      ]
    },
    {
      "cell_type": "code",
      "source": [
        "account.deposit(500)"
      ],
      "metadata": {
        "colab": {
          "base_uri": "https://localhost:8080/"
        },
        "id": "hLjSLi_n6fxG",
        "outputId": "a7b71441-5dae-428f-ed02-b9874054dee7"
      },
      "execution_count": 86,
      "outputs": [
        {
          "output_type": "stream",
          "name": "stdout",
          "text": [
            "500원이 입금되었습니다. 잔액: 100500원\n"
          ]
        }
      ]
    },
    {
      "cell_type": "code",
      "source": [
        "account.balance"
      ],
      "metadata": {
        "colab": {
          "base_uri": "https://localhost:8080/"
        },
        "id": "ypM0KTEk6hr9",
        "outputId": "7f48dd9e-3ba5-4d90-8bca-aabfb7a32b16"
      },
      "execution_count": 87,
      "outputs": [
        {
          "output_type": "execute_result",
          "data": {
            "text/plain": [
              "100500"
            ]
          },
          "metadata": {},
          "execution_count": 87
        }
      ]
    },
    {
      "cell_type": "code",
      "source": [
        "account.transaction_history"
      ],
      "metadata": {
        "colab": {
          "base_uri": "https://localhost:8080/"
        },
        "id": "0APRE3GL6jh7",
        "outputId": "ca0ad859-3fb4-4368-c013-8fed3a9e0b51"
      },
      "execution_count": 88,
      "outputs": [
        {
          "output_type": "execute_result",
          "data": {
            "text/plain": [
              "['입금: +500원']"
            ]
          },
          "metadata": {},
          "execution_count": 88
        }
      ]
    },
    {
      "cell_type": "code",
      "source": [
        "account.withdraw(1000)"
      ],
      "metadata": {
        "colab": {
          "base_uri": "https://localhost:8080/"
        },
        "id": "kNVkTYSz6lI1",
        "outputId": "7b079f82-6946-4e15-c893-db3b81c7f262"
      },
      "execution_count": 89,
      "outputs": [
        {
          "output_type": "stream",
          "name": "stdout",
          "text": [
            "1000원이 출금되었습니다. 잔액: 99500원\n"
          ]
        }
      ]
    },
    {
      "cell_type": "code",
      "source": [
        "account.balance"
      ],
      "metadata": {
        "colab": {
          "base_uri": "https://localhost:8080/"
        },
        "id": "DFCQal0H6oTe",
        "outputId": "10fa6541-6ab0-4ce7-f09f-ccb81ee8883f"
      },
      "execution_count": 90,
      "outputs": [
        {
          "output_type": "execute_result",
          "data": {
            "text/plain": [
              "99500"
            ]
          },
          "metadata": {},
          "execution_count": 90
        }
      ]
    },
    {
      "cell_type": "code",
      "source": [
        "account.transaction_history"
      ],
      "metadata": {
        "colab": {
          "base_uri": "https://localhost:8080/"
        },
        "id": "B9zXRb946w49",
        "outputId": "278ea624-e636-4106-cd8d-cfe0c15e1d1c"
      },
      "execution_count": 91,
      "outputs": [
        {
          "output_type": "execute_result",
          "data": {
            "text/plain": [
              "['입금: +500원', '출금: -1000원']"
            ]
          },
          "metadata": {},
          "execution_count": 91
        }
      ]
    },
    {
      "cell_type": "code",
      "source": [
        "account.balance"
      ],
      "metadata": {
        "colab": {
          "base_uri": "https://localhost:8080/"
        },
        "id": "jIejIbZ26yP7",
        "outputId": "7d545bf7-1b22-4716-c8a2-a98f132c6afd"
      },
      "execution_count": 94,
      "outputs": [
        {
          "output_type": "execute_result",
          "data": {
            "text/plain": [
              "100000"
            ]
          },
          "metadata": {},
          "execution_count": 94
        }
      ]
    },
    {
      "cell_type": "code",
      "source": [
        "account.withdraw(1500)"
      ],
      "metadata": {
        "colab": {
          "base_uri": "https://localhost:8080/"
        },
        "id": "znbzBq527L5G",
        "outputId": "c42c58dd-8b04-4657-a07f-43d9f059b8a0"
      },
      "execution_count": 95,
      "outputs": [
        {
          "output_type": "stream",
          "name": "stdout",
          "text": [
            "1500원이 출금되었습니다. 잔액: 98500원\n"
          ]
        }
      ]
    },
    {
      "cell_type": "code",
      "source": [
        "account.balance"
      ],
      "metadata": {
        "colab": {
          "base_uri": "https://localhost:8080/"
        },
        "id": "dKaR-zUb7OTx",
        "outputId": "9b80fd8d-aaac-4eb7-9403-8490ee405094"
      },
      "execution_count": 96,
      "outputs": [
        {
          "output_type": "execute_result",
          "data": {
            "text/plain": [
              "98500"
            ]
          },
          "metadata": {},
          "execution_count": 96
        }
      ]
    },
    {
      "cell_type": "code",
      "source": [
        "account.get_balance()"
      ],
      "metadata": {
        "colab": {
          "base_uri": "https://localhost:8080/"
        },
        "id": "S8n10ga57PdT",
        "outputId": "ea8b7686-66b1-4782-eebb-342b29aa105a"
      },
      "execution_count": 97,
      "outputs": [
        {
          "output_type": "execute_result",
          "data": {
            "text/plain": [
              "98500"
            ]
          },
          "metadata": {},
          "execution_count": 97
        }
      ]
    },
    {
      "cell_type": "code",
      "source": [
        "class Animal:\n",
        "    def __init__(self,name,species):\n",
        "        self.name=name\n",
        "        self.species=species\n",
        "\n",
        "    def make_sound(self):\n",
        "        print(f\"{self.name}가 소리를 냅니다\")\n",
        "\n",
        "    def eat(self):\n",
        "        print(f\"{self.name}가 음식을 먹습니다\")"
      ],
      "metadata": {
        "id": "WdnVUCsz7Wst"
      },
      "execution_count": 107,
      "outputs": []
    },
    {
      "cell_type": "code",
      "source": [
        "class Dog(Animal):\n",
        "    def __init__(self,name,breed):\n",
        "        super().__init__(name,'개') # super()는 Animal를 가리킨다\n",
        "        # super().__init__(name,species) 이렇게 되면 Dog 클래스에서는 species를 받지 않기 때문에 에러가 난다\n",
        "        # 내가 부모 것을 상속 받으면, 상속 받은 것도 초기화해야한다\n",
        "        self.breed=breed"
      ],
      "metadata": {
        "id": "cFxQJNAi9QGE"
      },
      "execution_count": 117,
      "outputs": []
    },
    {
      "cell_type": "code",
      "source": [
        "dog_1 = Dog(\"구름이\",\"말티즈\")"
      ],
      "metadata": {
        "id": "eOtNaNfU9cPl"
      },
      "execution_count": 118,
      "outputs": []
    },
    {
      "cell_type": "code",
      "source": [
        "dog_1.breed"
      ],
      "metadata": {
        "colab": {
          "base_uri": "https://localhost:8080/",
          "height": 35
        },
        "id": "VTzIf8dq9nAn",
        "outputId": "2029bb13-4855-4511-eb2e-d859109341ce"
      },
      "execution_count": 119,
      "outputs": [
        {
          "output_type": "execute_result",
          "data": {
            "text/plain": [
              "'말티즈'"
            ],
            "application/vnd.google.colaboratory.intrinsic+json": {
              "type": "string"
            }
          },
          "metadata": {},
          "execution_count": 119
        }
      ]
    },
    {
      "cell_type": "code",
      "source": [
        "dog_1.species"
      ],
      "metadata": {
        "colab": {
          "base_uri": "https://localhost:8080/",
          "height": 35
        },
        "id": "ib5OOE4J9oTR",
        "outputId": "a465fa3b-e982-43b6-a1ba-1d0d90a14cc5"
      },
      "execution_count": 120,
      "outputs": [
        {
          "output_type": "execute_result",
          "data": {
            "text/plain": [
              "'개'"
            ],
            "application/vnd.google.colaboratory.intrinsic+json": {
              "type": "string"
            }
          },
          "metadata": {},
          "execution_count": 120
        }
      ]
    },
    {
      "cell_type": "code",
      "source": [
        "dog_1.name"
      ],
      "metadata": {
        "colab": {
          "base_uri": "https://localhost:8080/",
          "height": 35
        },
        "id": "I4K_n7a59px5",
        "outputId": "b5ffa15b-c1a3-4483-95c4-95446215ff90"
      },
      "execution_count": 121,
      "outputs": [
        {
          "output_type": "execute_result",
          "data": {
            "text/plain": [
              "'구름이'"
            ],
            "application/vnd.google.colaboratory.intrinsic+json": {
              "type": "string"
            }
          },
          "metadata": {},
          "execution_count": 121
        }
      ]
    },
    {
      "cell_type": "code",
      "source": [
        "dog_1.eat()"
      ],
      "metadata": {
        "colab": {
          "base_uri": "https://localhost:8080/"
        },
        "id": "RTPSTbXb9rNa",
        "outputId": "3572b9f7-ef47-4e84-d505-c593c41a82c3"
      },
      "execution_count": 122,
      "outputs": [
        {
          "output_type": "stream",
          "name": "stdout",
          "text": [
            "구름이가 음식을 먹습니다\n"
          ]
        }
      ]
    },
    {
      "cell_type": "code",
      "source": [
        "dog_1.make_sound()"
      ],
      "metadata": {
        "colab": {
          "base_uri": "https://localhost:8080/"
        },
        "id": "LDANl0cz9sti",
        "outputId": "10fe74c7-db8d-4303-bd31-0398bcb98761"
      },
      "execution_count": 123,
      "outputs": [
        {
          "output_type": "stream",
          "name": "stdout",
          "text": [
            "구름이가 소리를 냅니다\n"
          ]
        }
      ]
    },
    {
      "cell_type": "code",
      "source": [
        "import math"
      ],
      "metadata": {
        "id": "CCXu4w-29uTi"
      },
      "execution_count": 124,
      "outputs": []
    },
    {
      "cell_type": "code",
      "source": [
        "math.pi"
      ],
      "metadata": {
        "colab": {
          "base_uri": "https://localhost:8080/"
        },
        "id": "U7WQoJFYEXJv",
        "outputId": "eb8dc1d1-9623-48b0-bffe-bca665c6f359"
      },
      "execution_count": 125,
      "outputs": [
        {
          "output_type": "execute_result",
          "data": {
            "text/plain": [
              "3.141592653589793"
            ]
          },
          "metadata": {},
          "execution_count": 125
        }
      ]
    },
    {
      "cell_type": "code",
      "source": [
        "math.sqrt(16)"
      ],
      "metadata": {
        "colab": {
          "base_uri": "https://localhost:8080/"
        },
        "id": "YdRsxQ14EYtq",
        "outputId": "83e35fd5-82ab-4d2e-9d0f-54bc5a452632"
      },
      "execution_count": 126,
      "outputs": [
        {
          "output_type": "execute_result",
          "data": {
            "text/plain": [
              "4.0"
            ]
          },
          "metadata": {},
          "execution_count": 126
        }
      ]
    },
    {
      "cell_type": "code",
      "source": [
        "math.floor(3.8)"
      ],
      "metadata": {
        "colab": {
          "base_uri": "https://localhost:8080/"
        },
        "id": "j4RBqVuDEjqz",
        "outputId": "e8f52670-f968-4218-bc6c-8631780f3b4f"
      },
      "execution_count": 127,
      "outputs": [
        {
          "output_type": "execute_result",
          "data": {
            "text/plain": [
              "3"
            ]
          },
          "metadata": {},
          "execution_count": 127
        }
      ]
    },
    {
      "cell_type": "code",
      "source": [
        "import datetime"
      ],
      "metadata": {
        "id": "rIHHDpnXEtQA"
      },
      "execution_count": 128,
      "outputs": []
    },
    {
      "cell_type": "code",
      "source": [
        "datetime.datetime.now()"
      ],
      "metadata": {
        "colab": {
          "base_uri": "https://localhost:8080/"
        },
        "id": "q1DFrCMcE3Ev",
        "outputId": "5a458cef-c078-4819-eebc-8d4eb1c4758c"
      },
      "execution_count": 131,
      "outputs": [
        {
          "output_type": "execute_result",
          "data": {
            "text/plain": [
              "datetime.datetime(2025, 9, 25, 13, 33, 17, 407945)"
            ]
          },
          "metadata": {},
          "execution_count": 131
        }
      ]
    },
    {
      "cell_type": "code",
      "source": [
        "now = datetime.datetime.now()"
      ],
      "metadata": {
        "id": "s4g5TcApE7Jd"
      },
      "execution_count": 132,
      "outputs": []
    },
    {
      "cell_type": "code",
      "source": [
        "now"
      ],
      "metadata": {
        "colab": {
          "base_uri": "https://localhost:8080/"
        },
        "id": "Kp1pxvz8FNVO",
        "outputId": "f578030e-6ce7-4fbd-b162-d8348c9ea5be"
      },
      "execution_count": 133,
      "outputs": [
        {
          "output_type": "execute_result",
          "data": {
            "text/plain": [
              "datetime.datetime(2025, 9, 25, 13, 34, 10, 475152)"
            ]
          },
          "metadata": {},
          "execution_count": 133
        }
      ]
    },
    {
      "cell_type": "code",
      "source": [
        "now.year"
      ],
      "metadata": {
        "colab": {
          "base_uri": "https://localhost:8080/"
        },
        "id": "QTPt-c_pFR10",
        "outputId": "e3553cd2-f8d0-4361-f990-7922b45bd7f3"
      },
      "execution_count": 134,
      "outputs": [
        {
          "output_type": "execute_result",
          "data": {
            "text/plain": [
              "2025"
            ]
          },
          "metadata": {},
          "execution_count": 134
        }
      ]
    },
    {
      "cell_type": "code",
      "source": [
        "now.month"
      ],
      "metadata": {
        "colab": {
          "base_uri": "https://localhost:8080/"
        },
        "id": "RbhMvOY7FTEf",
        "outputId": "6f20e7ba-485f-4d27-98a9-b2000a0739bb"
      },
      "execution_count": 135,
      "outputs": [
        {
          "output_type": "execute_result",
          "data": {
            "text/plain": [
              "9"
            ]
          },
          "metadata": {},
          "execution_count": 135
        }
      ]
    },
    {
      "cell_type": "code",
      "source": [
        "now.day"
      ],
      "metadata": {
        "colab": {
          "base_uri": "https://localhost:8080/"
        },
        "id": "UjiwsJkHFVHS",
        "outputId": "fa0f8b82-abb4-40c6-9817-302f404b1931"
      },
      "execution_count": 136,
      "outputs": [
        {
          "output_type": "execute_result",
          "data": {
            "text/plain": [
              "25"
            ]
          },
          "metadata": {},
          "execution_count": 136
        }
      ]
    },
    {
      "cell_type": "code",
      "source": [
        "now.hour"
      ],
      "metadata": {
        "colab": {
          "base_uri": "https://localhost:8080/"
        },
        "id": "1YZP0-RGFWGT",
        "outputId": "92d8ae9c-9c34-478f-8663-577a5b0de813"
      },
      "execution_count": 138,
      "outputs": [
        {
          "output_type": "execute_result",
          "data": {
            "text/plain": [
              "13"
            ]
          },
          "metadata": {},
          "execution_count": 138
        }
      ]
    },
    {
      "cell_type": "code",
      "source": [
        "now.minute"
      ],
      "metadata": {
        "colab": {
          "base_uri": "https://localhost:8080/"
        },
        "id": "REnY1mxjFYbk",
        "outputId": "0a5e5f4a-f13b-40b2-fdba-dba6b6ecacba"
      },
      "execution_count": 139,
      "outputs": [
        {
          "output_type": "execute_result",
          "data": {
            "text/plain": [
              "34"
            ]
          },
          "metadata": {},
          "execution_count": 139
        }
      ]
    },
    {
      "cell_type": "code",
      "source": [
        "now.second"
      ],
      "metadata": {
        "colab": {
          "base_uri": "https://localhost:8080/"
        },
        "id": "Hz_3209KFce2",
        "outputId": "53dc1514-3156-4e7c-8047-94950fbcb17c"
      },
      "execution_count": 140,
      "outputs": [
        {
          "output_type": "execute_result",
          "data": {
            "text/plain": [
              "10"
            ]
          },
          "metadata": {},
          "execution_count": 140
        }
      ]
    },
    {
      "cell_type": "code",
      "source": [
        "now.microsecond"
      ],
      "metadata": {
        "colab": {
          "base_uri": "https://localhost:8080/"
        },
        "id": "PEt3L0JnFdSG",
        "outputId": "ac8cbc3d-3b74-44b0-bd9e-22f61feb7338"
      },
      "execution_count": 141,
      "outputs": [
        {
          "output_type": "execute_result",
          "data": {
            "text/plain": [
              "475152"
            ]
          },
          "metadata": {},
          "execution_count": 141
        }
      ]
    },
    {
      "cell_type": "code",
      "source": [
        "now + datetime.timedelta(days=10)"
      ],
      "metadata": {
        "colab": {
          "base_uri": "https://localhost:8080/"
        },
        "id": "xAc10bPVFeeb",
        "outputId": "259217b1-d9da-4827-8181-207666b76fea"
      },
      "execution_count": 143,
      "outputs": [
        {
          "output_type": "execute_result",
          "data": {
            "text/plain": [
              "datetime.datetime(2025, 10, 5, 13, 34, 10, 475152)"
            ]
          },
          "metadata": {},
          "execution_count": 143
        }
      ]
    },
    {
      "cell_type": "code",
      "source": [
        "now - datetime.timedelta(days=10)"
      ],
      "metadata": {
        "colab": {
          "base_uri": "https://localhost:8080/"
        },
        "id": "aZsyWJijFyzv",
        "outputId": "e153d0d1-0594-4d58-a38b-8ca685854c2c"
      },
      "execution_count": 144,
      "outputs": [
        {
          "output_type": "execute_result",
          "data": {
            "text/plain": [
              "datetime.datetime(2025, 9, 15, 13, 34, 10, 475152)"
            ]
          },
          "metadata": {},
          "execution_count": 144
        }
      ]
    },
    {
      "cell_type": "code",
      "source": [
        "now.strftime(\"%Y-%m-%d\")"
      ],
      "metadata": {
        "colab": {
          "base_uri": "https://localhost:8080/",
          "height": 35
        },
        "id": "3wCi1012F6tB",
        "outputId": "5048ac58-bda6-49aa-ff03-7e59af71516c"
      },
      "execution_count": 149,
      "outputs": [
        {
          "output_type": "execute_result",
          "data": {
            "text/plain": [
              "'2025-09-25'"
            ],
            "application/vnd.google.colaboratory.intrinsic+json": {
              "type": "string"
            }
          },
          "metadata": {},
          "execution_count": 149
        }
      ]
    },
    {
      "cell_type": "code",
      "source": [
        "now.strftime(\"%y|%m|%d\")"
      ],
      "metadata": {
        "colab": {
          "base_uri": "https://localhost:8080/",
          "height": 35
        },
        "id": "eJc_p0YDGzUB",
        "outputId": "ad9714e2-abec-4a5c-c9ab-29ca61538f64"
      },
      "execution_count": 150,
      "outputs": [
        {
          "output_type": "execute_result",
          "data": {
            "text/plain": [
              "'25|09|25'"
            ],
            "application/vnd.google.colaboratory.intrinsic+json": {
              "type": "string"
            }
          },
          "metadata": {},
          "execution_count": 150
        }
      ]
    },
    {
      "cell_type": "code",
      "source": [
        "time = \"2025-09-25\""
      ],
      "metadata": {
        "id": "LrNZVcQqHFqN"
      },
      "execution_count": 151,
      "outputs": []
    },
    {
      "cell_type": "code",
      "source": [
        "type(time)"
      ],
      "metadata": {
        "colab": {
          "base_uri": "https://localhost:8080/"
        },
        "id": "RqzmmPcpHXIt",
        "outputId": "75304365-b8f1-46bc-e8bc-5e38c5d529c8"
      },
      "execution_count": 152,
      "outputs": [
        {
          "output_type": "execute_result",
          "data": {
            "text/plain": [
              "str"
            ]
          },
          "metadata": {},
          "execution_count": 152
        }
      ]
    },
    {
      "cell_type": "code",
      "source": [
        "a=datetime.datetime.strptime(time, \"%Y-%m-%d\")"
      ],
      "metadata": {
        "id": "159tsCsjHYBu"
      },
      "execution_count": 155,
      "outputs": []
    },
    {
      "cell_type": "code",
      "source": [
        "type(a)"
      ],
      "metadata": {
        "colab": {
          "base_uri": "https://localhost:8080/"
        },
        "id": "urJvry54HnrE",
        "outputId": "cfd27bbd-66bc-49fd-ed59-7abb0f13029f"
      },
      "execution_count": 156,
      "outputs": [
        {
          "output_type": "execute_result",
          "data": {
            "text/plain": [
              "datetime.datetime"
            ]
          },
          "metadata": {},
          "execution_count": 156
        }
      ]
    },
    {
      "cell_type": "code",
      "source": [
        "a"
      ],
      "metadata": {
        "colab": {
          "base_uri": "https://localhost:8080/"
        },
        "id": "_sK7Uo6qHvwk",
        "outputId": "51425079-0d2e-49dd-8887-566a12716352"
      },
      "execution_count": 157,
      "outputs": [
        {
          "output_type": "execute_result",
          "data": {
            "text/plain": [
              "datetime.datetime(2025, 9, 25, 0, 0)"
            ]
          },
          "metadata": {},
          "execution_count": 157
        }
      ]
    },
    {
      "cell_type": "code",
      "source": [],
      "metadata": {
        "id": "z1iQZDd3H2kj"
      },
      "execution_count": null,
      "outputs": []
    }
  ]
}