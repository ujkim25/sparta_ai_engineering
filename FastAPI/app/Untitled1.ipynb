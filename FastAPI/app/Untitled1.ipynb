{
 "cells": [
  {
   "cell_type": "code",
   "execution_count": 16,
   "id": "e562c628-9ff3-46fe-834c-05a75d653faa",
   "metadata": {},
   "outputs": [],
   "source": [
    "import requests"
   ]
  },
  {
   "cell_type": "code",
   "execution_count": 34,
   "id": "bca277ff-cbcc-4b5c-a1a4-06a051176153",
   "metadata": {},
   "outputs": [],
   "source": [
    "data = {\n",
    "    \"title\":\"샘플 아이템\",\n",
    "    \"price\":19900,\n",
    "    \"description\":\"테스트\"\n",
    "}"
   ]
  },
  {
   "cell_type": "code",
   "execution_count": 35,
   "id": "2c69b115-e81d-40c2-8df5-77f65c716fc8",
   "metadata": {},
   "outputs": [],
   "source": [
    "response = requests.post(\"http://localhost:8012/items\", json=data)"
   ]
  },
  {
   "cell_type": "code",
   "execution_count": 23,
   "id": "c33d50d8-835d-4e6a-b336-b4edb098714c",
   "metadata": {},
   "outputs": [
    {
     "data": {
      "text/plain": [
       "<Response [200]>"
      ]
     },
     "execution_count": 23,
     "metadata": {},
     "output_type": "execute_result"
    }
   ],
   "source": [
    "response"
   ]
  },
  {
   "cell_type": "code",
   "execution_count": 36,
   "id": "cdb14825-cae9-4366-9275-9a3de67f32c7",
   "metadata": {},
   "outputs": [],
   "source": [
    "data2 = {\n",
    "    \"title\":\"샘플 아이템2\",\n",
    "    \"price\":199002,\n",
    "    \"description\":\"테스트2\"\n",
    "}"
   ]
  },
  {
   "cell_type": "code",
   "execution_count": 37,
   "id": "c9e4003a-b639-4fd1-a94b-8800b46db516",
   "metadata": {},
   "outputs": [],
   "source": [
    "response = requests.post(\"http://localhost:8012/items\", json=data2)"
   ]
  },
  {
   "cell_type": "code",
   "execution_count": 26,
   "id": "3c60e054-883a-4e7e-96e4-457ff1ba0b37",
   "metadata": {},
   "outputs": [],
   "source": [
    "data3 = {\n",
    "    \"title\":\"새로운 제목\"\n",
    "}"
   ]
  },
  {
   "cell_type": "code",
   "execution_count": 29,
   "id": "8a95f655-3283-4332-94f4-fb22c5fa87cc",
   "metadata": {},
   "outputs": [],
   "source": [
    "response = requests.put(\"http://localhost:8012/items/1\", json=data3)"
   ]
  },
  {
   "cell_type": "code",
   "execution_count": 28,
   "id": "ef941276-4146-4fcc-b8b0-ecb4cf0d03de",
   "metadata": {},
   "outputs": [
    {
     "data": {
      "text/plain": [
       "<Response [200]>"
      ]
     },
     "execution_count": 28,
     "metadata": {},
     "output_type": "execute_result"
    }
   ],
   "source": [
    "response"
   ]
  },
  {
   "cell_type": "code",
   "execution_count": 38,
   "id": "7e971b27-6f15-4c24-a136-c47b326b4b7a",
   "metadata": {},
   "outputs": [],
   "source": [
    "response = requests.delete(\"http://localhost:8012/items/1\")"
   ]
  },
  {
   "cell_type": "code",
   "execution_count": 39,
   "id": "38fe3d96-f874-4a81-b07e-cf8ee349a3be",
   "metadata": {},
   "outputs": [
    {
     "data": {
      "text/plain": [
       "<Response [200]>"
      ]
     },
     "execution_count": 39,
     "metadata": {},
     "output_type": "execute_result"
    }
   ],
   "source": [
    "response"
   ]
  },
  {
   "cell_type": "code",
   "execution_count": null,
   "id": "f4157482-04ed-4908-ad3b-4a3c62ea4ea6",
   "metadata": {},
   "outputs": [],
   "source": []
  }
 ],
 "metadata": {
  "kernelspec": {
   "display_name": "Python [conda env:base] *",
   "language": "python",
   "name": "conda-base-py"
  },
  "language_info": {
   "codemirror_mode": {
    "name": "ipython",
    "version": 3
   },
   "file_extension": ".py",
   "mimetype": "text/x-python",
   "name": "python",
   "nbconvert_exporter": "python",
   "pygments_lexer": "ipython3",
   "version": "3.13.5"
  }
 },
 "nbformat": 4,
 "nbformat_minor": 5
}
