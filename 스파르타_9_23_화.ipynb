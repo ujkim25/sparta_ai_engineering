{
  "nbformat": 4,
  "nbformat_minor": 0,
  "metadata": {
    "colab": {
      "provenance": [],
      "authorship_tag": "ABX9TyPkp0vep91GQtfgqIX+IFa5",
      "include_colab_link": true
    },
    "kernelspec": {
      "name": "python3",
      "display_name": "Python 3"
    },
    "language_info": {
      "name": "python"
    }
  },
  "cells": [
    {
      "cell_type": "markdown",
      "metadata": {
        "id": "view-in-github",
        "colab_type": "text"
      },
      "source": [
        "<a href=\"https://colab.research.google.com/github/ujkim25/sparta_ai_engineering/blob/main/%EC%8A%A4%ED%8C%8C%EB%A5%B4%ED%83%80_9_23_%ED%99%94.ipynb\" target=\"_parent\"><img src=\"https://colab.research.google.com/assets/colab-badge.svg\" alt=\"Open In Colab\"/></a>"
      ]
    },
    {
      "cell_type": "code",
      "execution_count": null,
      "metadata": {
        "colab": {
          "base_uri": "https://localhost:8080/"
        },
        "id": "A-lMCZwJmYFy",
        "outputId": "e76930e3-54cb-4f65-ecb8-ceb8dbb0f368"
      },
      "outputs": [
        {
          "output_type": "stream",
          "name": "stdout",
          "text": [
            "Hello world !\n"
          ]
        }
      ],
      "source": [
        "print(\"Hello world !\")"
      ]
    },
    {
      "cell_type": "code",
      "source": [
        "print(\"Hello world !\")"
      ],
      "metadata": {
        "colab": {
          "base_uri": "https://localhost:8080/"
        },
        "id": "1Z0zVE5RSk3J",
        "outputId": "2a84abf1-440d-4f4d-e49b-2e785b29831a"
      },
      "execution_count": null,
      "outputs": [
        {
          "output_type": "stream",
          "name": "stdout",
          "text": [
            "Hello world !\n"
          ]
        }
      ]
    },
    {
      "cell_type": "code",
      "source": [
        "a=10"
      ],
      "metadata": {
        "id": "PR8vgj3_S1l_"
      },
      "execution_count": null,
      "outputs": []
    },
    {
      "cell_type": "code",
      "source": [
        "print(a)"
      ],
      "metadata": {
        "colab": {
          "base_uri": "https://localhost:8080/"
        },
        "id": "M17iEHXfTmoQ",
        "outputId": "f5302530-2e0e-4e6d-be63-e2128e972a06"
      },
      "execution_count": null,
      "outputs": [
        {
          "output_type": "stream",
          "name": "stdout",
          "text": [
            "10\n"
          ]
        }
      ]
    },
    {
      "cell_type": "code",
      "source": [
        "name = \"김철수\"\n",
        "age=25\n",
        "height=175.5"
      ],
      "metadata": {
        "id": "r2foGZc6Tnhk"
      },
      "execution_count": null,
      "outputs": []
    },
    {
      "cell_type": "code",
      "source": [
        "print(name)\n",
        "print(age)\n",
        "print(height)"
      ],
      "metadata": {
        "colab": {
          "base_uri": "https://localhost:8080/"
        },
        "id": "lt3vhrXUUSiz",
        "outputId": "8ed73f7b-6cc6-4095-f1e8-806c48be5102"
      },
      "execution_count": null,
      "outputs": [
        {
          "output_type": "stream",
          "name": "stdout",
          "text": [
            "김철수\n",
            "25\n",
            "175.5\n"
          ]
        }
      ]
    },
    {
      "cell_type": "code",
      "source": [
        "age=26\n",
        "print(age)"
      ],
      "metadata": {
        "colab": {
          "base_uri": "https://localhost:8080/"
        },
        "id": "yg4hqEZAUYNT",
        "outputId": "fe4859dd-ab73-4b90-ec7f-14d6a5912004"
      },
      "execution_count": null,
      "outputs": [
        {
          "output_type": "stream",
          "name": "stdout",
          "text": [
            "26\n"
          ]
        }
      ]
    },
    {
      "cell_type": "code",
      "source": [
        "birth_year=2024-age"
      ],
      "metadata": {
        "id": "ymiEfRitUpHt"
      },
      "execution_count": null,
      "outputs": []
    },
    {
      "cell_type": "code",
      "source": [
        "print(birth_year)"
      ],
      "metadata": {
        "colab": {
          "base_uri": "https://localhost:8080/"
        },
        "id": "NGcx0R7cUsA6",
        "outputId": "1561ca1e-04a7-4a5e-ad40-29807d4888ec"
      },
      "execution_count": null,
      "outputs": [
        {
          "output_type": "stream",
          "name": "stdout",
          "text": [
            "1998\n"
          ]
        }
      ]
    },
    {
      "cell_type": "code",
      "source": [
        "birth_year=(2024-age)/2"
      ],
      "metadata": {
        "id": "YnOSeC1-UtQD"
      },
      "execution_count": null,
      "outputs": []
    },
    {
      "cell_type": "code",
      "source": [
        "print(birth_year)"
      ],
      "metadata": {
        "colab": {
          "base_uri": "https://localhost:8080/"
        },
        "id": "z27HMibVU476",
        "outputId": "97cc4851-c887-44b0-9b20-2c1383c73d53"
      },
      "execution_count": null,
      "outputs": [
        {
          "output_type": "stream",
          "name": "stdout",
          "text": [
            "999.0\n"
          ]
        }
      ]
    },
    {
      "cell_type": "code",
      "source": [
        "print(0.0)"
      ],
      "metadata": {
        "colab": {
          "base_uri": "https://localhost:8080/"
        },
        "id": "_nbkPCmMU6Zx",
        "outputId": "ab4677f0-3f68-44f3-bc8b-5c76adaaf9b9"
      },
      "execution_count": null,
      "outputs": [
        {
          "output_type": "stream",
          "name": "stdout",
          "text": [
            "0.0\n"
          ]
        }
      ]
    },
    {
      "cell_type": "code",
      "source": [
        "student_count=30\n",
        "temperature=-5\n",
        "\n",
        "print(\"학생 수: \", student_count, \"| 자료형\", type(student_count))"
      ],
      "metadata": {
        "colab": {
          "base_uri": "https://localhost:8080/"
        },
        "id": "wkC0iRiVVU0C",
        "outputId": "16107b05-2491-45b9-9ce1-56094eeef24e"
      },
      "execution_count": null,
      "outputs": [
        {
          "output_type": "stream",
          "name": "stdout",
          "text": [
            "학생 수:  30 | 자료형 <class 'int'>\n"
          ]
        }
      ]
    },
    {
      "cell_type": "code",
      "source": [
        "pi=3.14159\n",
        "weight=-65.5\n",
        "\n",
        "print(\"원주율: \",pi,\"|자료형:\",type(pi))\n",
        "\n",
        "print(\"몸무게: \",weight,\"|자료형:\",type(weight))"
      ],
      "metadata": {
        "colab": {
          "base_uri": "https://localhost:8080/"
        },
        "id": "bCU42XYNVq2Q",
        "outputId": "fd3c97f3-94da-4c5c-e8e9-64df3ca3c200"
      },
      "execution_count": null,
      "outputs": [
        {
          "output_type": "stream",
          "name": "stdout",
          "text": [
            "원주율:  3.14159 |자료형: <class 'float'>\n",
            "몸무게:  -65.5 |자료형: <class 'float'>\n"
          ]
        }
      ]
    },
    {
      "cell_type": "code",
      "source": [
        "greeting=\"안녕하세요\"\n",
        "수업이름='python기초'\n",
        "\n",
        "print(\"인사말:\",greeting,\"| 자료형:\",type(greeting))\n",
        "\n",
        "print(\"수업이름:\",수업이름,\"| 자료형:\",type(수업이름))"
      ],
      "metadata": {
        "colab": {
          "base_uri": "https://localhost:8080/"
        },
        "id": "WwbE17Y3VrOs",
        "outputId": "cbb3a7fa-7330-498f-8f88-2ecdee8cbee3"
      },
      "execution_count": null,
      "outputs": [
        {
          "output_type": "stream",
          "name": "stdout",
          "text": [
            "인사말: 안녕하세요 | 자료형: <class 'str'>\n",
            "수업이름: python기초 | 자료형: <class 'str'>\n"
          ]
        }
      ]
    },
    {
      "cell_type": "code",
      "source": [
        "a=1\n",
        "b=2\n",
        "\n",
        "print(a,b)"
      ],
      "metadata": {
        "colab": {
          "base_uri": "https://localhost:8080/"
        },
        "id": "EIVqMRAjXXMn",
        "outputId": "b9b26fdd-50ca-471b-e430-1ba1167a32b0"
      },
      "execution_count": null,
      "outputs": [
        {
          "output_type": "stream",
          "name": "stdout",
          "text": [
            "1 2\n"
          ]
        }
      ]
    },
    {
      "cell_type": "code",
      "source": [
        "is_student=True\n",
        "is_raining=False\n",
        "\n",
        "print(\"학생인가요? :\",is_student,\"| 자료형:\",type(is_student))\n",
        "\n",
        "print(\"비가 오나요? :\",is_raining,\"| 자료형:\",type(is_raining))"
      ],
      "metadata": {
        "colab": {
          "base_uri": "https://localhost:8080/"
        },
        "id": "tQltUSfDVrRU",
        "outputId": "b6c3203f-e852-4d26-c345-9669c29fa1cd"
      },
      "execution_count": null,
      "outputs": [
        {
          "output_type": "stream",
          "name": "stdout",
          "text": [
            "학생인가요? : True | 자료형: <class 'bool'>\n",
            "비가 오나요? : False | 자료형: <class 'bool'>\n"
          ]
        }
      ]
    },
    {
      "cell_type": "code",
      "source": [
        "a_3=3"
      ],
      "metadata": {
        "id": "ETncyPiJVrT4"
      },
      "execution_count": null,
      "outputs": []
    },
    {
      "cell_type": "code",
      "source": [
        "print(a_3)"
      ],
      "metadata": {
        "colab": {
          "base_uri": "https://localhost:8080/"
        },
        "id": "LmOm4orlVrWN",
        "outputId": "566519b2-670f-42c3-9dd8-1dc07fd5a002"
      },
      "execution_count": null,
      "outputs": [
        {
          "output_type": "stream",
          "name": "stdout",
          "text": [
            "3\n"
          ]
        }
      ]
    },
    {
      "cell_type": "code",
      "source": [
        "print(\"안녕하세요!\")\n",
        "print(\"=|\"*30)"
      ],
      "metadata": {
        "colab": {
          "base_uri": "https://localhost:8080/"
        },
        "id": "H7Yg0n_QVrZo",
        "outputId": "daa50269-ecb5-4633-9018-b0a86bc30730"
      },
      "execution_count": null,
      "outputs": [
        {
          "output_type": "stream",
          "name": "stdout",
          "text": [
            "안녕하세요!\n",
            "=|=|=|=|=|=|=|=|=|=|=|=|=|=|=|=|=|=|=|=|=|=|=|=|=|=|=|=|=|=|\n"
          ]
        }
      ]
    },
    {
      "cell_type": "code",
      "source": [
        "name=\"김철수\"\n",
        "age=25\n",
        "city=\"서울\"\n",
        "\n",
        "print(\"이름:\",name,\"나이:\",age,\"거주지:\",city)"
      ],
      "metadata": {
        "colab": {
          "base_uri": "https://localhost:8080/"
        },
        "id": "7_85-8y1eNV_",
        "outputId": "170cbd2a-af6f-48a0-e2ba-78c8e5f7ee5f"
      },
      "execution_count": null,
      "outputs": [
        {
          "output_type": "stream",
          "name": "stdout",
          "text": [
            "이름: 김철수 나이: 25 거주지: 서울\n"
          ]
        }
      ]
    },
    {
      "cell_type": "code",
      "source": [
        "print(\"사과\",\"바나나\",\"딸기\",sep=\" \") #구분자 바꾸기"
      ],
      "metadata": {
        "colab": {
          "base_uri": "https://localhost:8080/"
        },
        "id": "LVqptnTIel-T",
        "outputId": "36176cb2-29a3-40db-d8fb-f6d0658aabca"
      },
      "execution_count": null,
      "outputs": [
        {
          "output_type": "stream",
          "name": "stdout",
          "text": [
            "사과 바나나 딸기\n"
          ]
        }
      ]
    },
    {
      "cell_type": "code",
      "source": [
        "print(\"첫번째 줄\",end=\" \")\n",
        "print(\"같은 줄에 출력 됩니다!\")"
      ],
      "metadata": {
        "colab": {
          "base_uri": "https://localhost:8080/"
        },
        "id": "L6SOAPFCe0h_",
        "outputId": "760effb8-8bc9-446d-a05e-ff91e03dab93"
      },
      "execution_count": null,
      "outputs": [
        {
          "output_type": "stream",
          "name": "stdout",
          "text": [
            "첫번째 줄 같은 줄에 출력 됩니다!\n"
          ]
        }
      ]
    },
    {
      "cell_type": "code",
      "source": [
        "print(\"첫번째 줄\")\n",
        "print(\"같은 줄에 출력 됩니다!\")"
      ],
      "metadata": {
        "colab": {
          "base_uri": "https://localhost:8080/"
        },
        "id": "iJHngjZ6fnEP",
        "outputId": "725e27da-3fd7-4c72-801f-379e8a6310f4"
      },
      "execution_count": null,
      "outputs": [
        {
          "output_type": "stream",
          "name": "stdout",
          "text": [
            "첫번째 줄\n",
            "같은 줄에 출력 됩니다!\n"
          ]
        }
      ]
    },
    {
      "cell_type": "code",
      "source": [
        "message=\"\"\" #여러 줄 문자열 출력\n",
        "안녕\n",
        "나는 AI야\n",
        "\"\"\"\n",
        "print(message)"
      ],
      "metadata": {
        "colab": {
          "base_uri": "https://localhost:8080/"
        },
        "id": "REWCFfurfqj5",
        "outputId": "3517f3b8-b046-4503-9569-6054fe77253f"
      },
      "execution_count": null,
      "outputs": [
        {
          "output_type": "stream",
          "name": "stdout",
          "text": [
            " #여러 줄 문자열 출력\n",
            "안녕\n",
            "나는 AI야\n",
            "\n"
          ]
        }
      ]
    },
    {
      "cell_type": "code",
      "source": [
        "message"
      ],
      "metadata": {
        "colab": {
          "base_uri": "https://localhost:8080/",
          "height": 36
        },
        "id": "8KXxnIIEgZe6",
        "outputId": "f1b0608a-64e0-4925-fb1e-b4735f35a003"
      },
      "execution_count": null,
      "outputs": [
        {
          "output_type": "execute_result",
          "data": {
            "text/plain": [
              "' #여러 줄 문자열 출력\\n안녕\\n나는 AI야\\n'"
            ],
            "application/vnd.google.colaboratory.intrinsic+json": {
              "type": "string"
            }
          },
          "metadata": {},
          "execution_count": 102
        }
      ]
    },
    {
      "cell_type": "code",
      "source": [
        "user_name=input(\"이름을 입력하세요: \")"
      ],
      "metadata": {
        "colab": {
          "base_uri": "https://localhost:8080/"
        },
        "id": "pNf7Ah0UgtiL",
        "outputId": "b0e141f5-2f46-43f6-9048-7bbb9a9f8763"
      },
      "execution_count": null,
      "outputs": [
        {
          "name": "stdout",
          "output_type": "stream",
          "text": [
            "이름을 입력하세요: 김우진\n"
          ]
        }
      ]
    },
    {
      "cell_type": "code",
      "source": [
        "user_name"
      ],
      "metadata": {
        "colab": {
          "base_uri": "https://localhost:8080/",
          "height": 36
        },
        "id": "VanMVwS-hDTY",
        "outputId": "8586f598-2ef9-4289-c471-6017d338562d"
      },
      "execution_count": null,
      "outputs": [
        {
          "output_type": "execute_result",
          "data": {
            "text/plain": [
              "'김우진'"
            ],
            "application/vnd.google.colaboratory.intrinsic+json": {
              "type": "string"
            }
          },
          "metadata": {},
          "execution_count": 104
        }
      ]
    },
    {
      "cell_type": "code",
      "source": [
        "print(\"안녕하세요\",user_name,\"님!\")"
      ],
      "metadata": {
        "colab": {
          "base_uri": "https://localhost:8080/"
        },
        "id": "TAyYLP7chJfM",
        "outputId": "b9aad1b4-8b94-4d8f-abf3-6371e5e1a819"
      },
      "execution_count": null,
      "outputs": [
        {
          "output_type": "stream",
          "name": "stdout",
          "text": [
            "안녕하세요 김우진 님!\n"
          ]
        }
      ]
    },
    {
      "cell_type": "code",
      "source": [
        "name=\"김민수\"\n",
        "print(\"이름:\", name)\n",
        "print(f\"이름: {name}\")\n",
        "\n",
        "age=22\n",
        "height=175.5\n",
        "weight=70.2\n",
        "\n",
        "print(f\"내년 나이: {age+1}세\")\n",
        "print(f\"BMI 지수: {weight/(height/100)**2:.2f}\")\n",
        "\n",
        "test=f\"이름: {name}\""
      ],
      "metadata": {
        "colab": {
          "base_uri": "https://localhost:8080/"
        },
        "id": "eVB-vbW_hVUX",
        "outputId": "188db733-3066-4772-8276-7b1be7a5a28f"
      },
      "execution_count": null,
      "outputs": [
        {
          "output_type": "stream",
          "name": "stdout",
          "text": [
            "이름: 김민수\n",
            "이름: 김민수\n",
            "내년 나이: 23세\n",
            "BMI 지수: 22.79\n"
          ]
        }
      ]
    },
    {
      "cell_type": "code",
      "source": [
        "test"
      ],
      "metadata": {
        "colab": {
          "base_uri": "https://localhost:8080/",
          "height": 36
        },
        "id": "_zJWvjSEh7oB",
        "outputId": "19e7b3a1-0cf6-42c1-af02-c92dd16b6e29"
      },
      "execution_count": null,
      "outputs": [
        {
          "output_type": "execute_result",
          "data": {
            "text/plain": [
              "'이름: 김민수'"
            ],
            "application/vnd.google.colaboratory.intrinsic+json": {
              "type": "string"
            }
          },
          "metadata": {},
          "execution_count": 107
        }
      ]
    },
    {
      "cell_type": "code",
      "source": [
        "10//3"
      ],
      "metadata": {
        "colab": {
          "base_uri": "https://localhost:8080/"
        },
        "id": "u5h-8NXpig8Z",
        "outputId": "389a44a4-77cb-483a-da5e-9ee85296c43e"
      },
      "execution_count": null,
      "outputs": [
        {
          "output_type": "execute_result",
          "data": {
            "text/plain": [
              "3"
            ]
          },
          "metadata": {},
          "execution_count": 108
        }
      ]
    },
    {
      "cell_type": "code",
      "source": [
        "10%3"
      ],
      "metadata": {
        "colab": {
          "base_uri": "https://localhost:8080/"
        },
        "id": "DbhTO6Gokmmc",
        "outputId": "3dc5b149-8781-4140-e993-6380f6f19d3a"
      },
      "execution_count": null,
      "outputs": [
        {
          "output_type": "execute_result",
          "data": {
            "text/plain": [
              "1"
            ]
          },
          "metadata": {},
          "execution_count": 109
        }
      ]
    },
    {
      "cell_type": "code",
      "source": [
        "price=1234567"
      ],
      "metadata": {
        "id": "lQREJM5Okn2h"
      },
      "execution_count": null,
      "outputs": []
    },
    {
      "cell_type": "code",
      "source": [
        "print(f\"가격: {price:,}원\")\n",
        "print(f\"가격: {price:>10,}원\")\n",
        "print(f\"가격: {price:<10,}원\")"
      ],
      "metadata": {
        "colab": {
          "base_uri": "https://localhost:8080/"
        },
        "id": "u7rmjGS3lK3u",
        "outputId": "57221292-6197-41bc-945b-62591f8ed397"
      },
      "execution_count": null,
      "outputs": [
        {
          "output_type": "stream",
          "name": "stdout",
          "text": [
            "가격: 1,234,567원\n",
            "가격:  1,234,567원\n",
            "가격: 1,234,567 원\n"
          ]
        }
      ]
    },
    {
      "cell_type": "code",
      "source": [
        "subject=\"파이썬\"\n",
        "score=95\n",
        "grade='A'\n",
        "\n",
        "print(f\"{name}님의 {subject} 성적은 {score}점 {grade}입니다.\")\n",
        "print(f\"평균보다 {score-80}점 높습니다.\")"
      ],
      "metadata": {
        "colab": {
          "base_uri": "https://localhost:8080/"
        },
        "id": "OZ7XfCdblP_9",
        "outputId": "9d43e069-4ba6-478f-9bd7-0466d899fdf0"
      },
      "execution_count": null,
      "outputs": [
        {
          "output_type": "stream",
          "name": "stdout",
          "text": [
            "김민수님의 파이썬 성적은 95점 A입니다.\n",
            "평균보다 15점 높습니다.\n"
          ]
        }
      ]
    },
    {
      "cell_type": "code",
      "source": [
        "info=f\"\"\"\n",
        "학생 정보 카드\n",
        "==============\n",
        "이름: {name}\n",
        "나이: {age}세\n",
        "키: {height}cm\n",
        "몸무게: {weight}kg\n",
        "BMI: {weight/(height/100)**2:.5f}\n",
        "\"\"\""
      ],
      "metadata": {
        "id": "kiJ_AFHsloD7"
      },
      "execution_count": null,
      "outputs": []
    },
    {
      "cell_type": "code",
      "source": [
        "#prompting 할 때 formating이 중요하다. f string이랑 .format()\n",
        "\n",
        "template1=\"안녕하세요! 저는 {}이고, {}세입니다.\""
      ],
      "metadata": {
        "id": "4ulgoO7xl9tf"
      },
      "execution_count": null,
      "outputs": []
    },
    {
      "cell_type": "code",
      "source": [
        "print(template1.format(\"김철수\",25))"
      ],
      "metadata": {
        "colab": {
          "base_uri": "https://localhost:8080/"
        },
        "id": "sGvXbCKfolPw",
        "outputId": "eabcf80a-1f94-4e19-ef85-28efbaa42aba"
      },
      "execution_count": null,
      "outputs": [
        {
          "output_type": "stream",
          "name": "stdout",
          "text": [
            "안녕하세요! 저는 김철수이고, 25세입니다.\n"
          ]
        }
      ]
    },
    {
      "cell_type": "code",
      "source": [
        "template2=\"안녕하세요! 저는 {0}이고, {2}세입니다\""
      ],
      "metadata": {
        "id": "SjyZjyDWonai"
      },
      "execution_count": null,
      "outputs": []
    },
    {
      "cell_type": "code",
      "source": [
        "print(template2.format(\"이영희\",23,26))"
      ],
      "metadata": {
        "colab": {
          "base_uri": "https://localhost:8080/"
        },
        "id": "WAed98WCpCfZ",
        "outputId": "a2fc47c3-5e42-475b-8dc2-8a31e2a17cf2"
      },
      "execution_count": null,
      "outputs": [
        {
          "output_type": "stream",
          "name": "stdout",
          "text": [
            "안녕하세요! 저는 이영희이고, 26세입니다\n"
          ]
        }
      ]
    },
    {
      "cell_type": "code",
      "source": [
        "template3=\"안녕하세요! 저는 {name}이고, {age}세입니다.\" #이렇게 명시해 주는게 가장 좋은 방식"
      ],
      "metadata": {
        "id": "VTVfsRZlpIAT"
      },
      "execution_count": null,
      "outputs": []
    },
    {
      "cell_type": "code",
      "source": [
        "print(template3.format(name=\"김철수\",age=23))"
      ],
      "metadata": {
        "colab": {
          "base_uri": "https://localhost:8080/"
        },
        "id": "vqlIuv9hppjY",
        "outputId": "af52ac34-46ce-4eb6-fa74-d77061d5f4bc"
      },
      "execution_count": null,
      "outputs": [
        {
          "output_type": "stream",
          "name": "stdout",
          "text": [
            "안녕하세요! 저는 김철수이고, 23세입니다.\n"
          ]
        }
      ]
    },
    {
      "cell_type": "code",
      "source": [
        "template=\"\"\"\n",
        "당신은 {role}입니다.\n",
        "다음 주제에 대해 {style} 스타일로 설명해주세요:\n",
        "주제: {topic}\n",
        "\"\"\""
      ],
      "metadata": {
        "id": "9I6xHzhTpvCJ"
      },
      "execution_count": null,
      "outputs": []
    },
    {
      "cell_type": "code",
      "source": [
        "message_teacher=template.format(role=\"교사\",style=\"유머러스\",topic=\"파이썬\")"
      ],
      "metadata": {
        "id": "cLUprS1cp5fF"
      },
      "execution_count": null,
      "outputs": []
    },
    {
      "cell_type": "code",
      "source": [
        "print(message_teacher)"
      ],
      "metadata": {
        "colab": {
          "base_uri": "https://localhost:8080/"
        },
        "id": "iKUmlinjp_Z4",
        "outputId": "72a1f33c-4892-4824-d19e-c48c8531c781"
      },
      "execution_count": null,
      "outputs": [
        {
          "output_type": "stream",
          "name": "stdout",
          "text": [
            "\n",
            "당신은 교사입니다.\n",
            "다음 주제에 대해 유머러스 스타일로 설명해주세요:\n",
            "주제: 파이썬\n",
            "\n"
          ]
        }
      ]
    },
    {
      "cell_type": "markdown",
      "source": [
        ".format ()는 미리 템플릿을 만들어둔다"
      ],
      "metadata": {
        "id": "TYnb9i8-s6QK"
      }
    },
    {
      "cell_type": "code",
      "source": [
        "name =\"김우진\"\n",
        "age=30\n",
        "\n",
        "print(\"안녕하세요, 제 이름은 %s입니다, 나이는 %s입니다.\" % (name, age))"
      ],
      "metadata": {
        "colab": {
          "base_uri": "https://localhost:8080/"
        },
        "id": "9kFFALdVtAdl",
        "outputId": "b71327e3-f2d2-44e0-c248-9b22a9eb664f"
      },
      "execution_count": null,
      "outputs": [
        {
          "output_type": "stream",
          "name": "stdout",
          "text": [
            "안녕하세요, 제 이름은 김우진입니다, 나이는 30입니다.\n"
          ]
        }
      ]
    },
    {
      "cell_type": "code",
      "source": [
        "template=\"안녕하세요, 제 이름은 %s입니다, 나이는 %s입니다.\""
      ],
      "metadata": {
        "id": "54LDuy33tC_o"
      },
      "execution_count": null,
      "outputs": []
    },
    {
      "cell_type": "code",
      "source": [
        "print(template % (name, age))"
      ],
      "metadata": {
        "colab": {
          "base_uri": "https://localhost:8080/"
        },
        "id": "wdhCkn9Gtmpm",
        "outputId": "5f70daca-cc3e-48a1-ffbb-ad01cc7ffe0d"
      },
      "execution_count": null,
      "outputs": [
        {
          "output_type": "stream",
          "name": "stdout",
          "text": [
            "안녕하세요, 제 이름은 김우진입니다, 나이는 30입니다.\n"
          ]
        }
      ]
    },
    {
      "cell_type": "code",
      "source": [
        "a,b,c=1,2,3\n",
        "print(a,b,c)"
      ],
      "metadata": {
        "colab": {
          "base_uri": "https://localhost:8080/"
        },
        "id": "gttf-VFAtqhI",
        "outputId": "ae60b0fe-fc14-4d39-9f48-26fd53e7719e"
      },
      "execution_count": null,
      "outputs": [
        {
          "output_type": "stream",
          "name": "stdout",
          "text": [
            "1 2 3\n"
          ]
        }
      ]
    },
    {
      "cell_type": "code",
      "source": [
        "text = \"나는 사람이다 123\""
      ],
      "metadata": {
        "id": "JnbAjPq9ujs8"
      },
      "execution_count": null,
      "outputs": []
    },
    {
      "cell_type": "code",
      "source": [
        "123 in text"
      ],
      "metadata": {
        "colab": {
          "base_uri": "https://localhost:8080/",
          "height": 149
        },
        "id": "KgC_v6Vwy27e",
        "outputId": "366fd5d0-d87d-44d8-92b7-7ddbce0a23db"
      },
      "execution_count": null,
      "outputs": [
        {
          "output_type": "error",
          "ename": "TypeError",
          "evalue": "'in <string>' requires string as left operand, not int",
          "traceback": [
            "\u001b[0;31m---------------------------------------------------------------------------\u001b[0m",
            "\u001b[0;31mTypeError\u001b[0m                                 Traceback (most recent call last)",
            "\u001b[0;32m/tmp/ipython-input-2036585272.py\u001b[0m in \u001b[0;36m<cell line: 0>\u001b[0;34m()\u001b[0m\n\u001b[0;32m----> 1\u001b[0;31m \u001b[0;36m123\u001b[0m \u001b[0;32min\u001b[0m \u001b[0mtext\u001b[0m\u001b[0;34m\u001b[0m\u001b[0;34m\u001b[0m\u001b[0m\n\u001b[0m",
            "\u001b[0;31mTypeError\u001b[0m: 'in <string>' requires string as left operand, not int"
          ]
        }
      ]
    },
    {
      "cell_type": "code",
      "source": [
        "\"123\" in text"
      ],
      "metadata": {
        "colab": {
          "base_uri": "https://localhost:8080/"
        },
        "id": "xzzNLV--y4dx",
        "outputId": "ac6df693-2bfd-48df-b6c6-1173f931c5d7"
      },
      "execution_count": null,
      "outputs": [
        {
          "output_type": "execute_result",
          "data": {
            "text/plain": [
              "True"
            ]
          },
          "metadata": {},
          "execution_count": 134
        }
      ]
    },
    {
      "cell_type": "code",
      "source": [
        "a=1\n",
        "b=1"
      ],
      "metadata": {
        "id": "MkNX-niSzAiT"
      },
      "execution_count": null,
      "outputs": []
    },
    {
      "cell_type": "code",
      "source": [
        "a=[1,2]\n",
        "c=[1,2]"
      ],
      "metadata": {
        "id": "FabADUFX0kVa"
      },
      "execution_count": null,
      "outputs": []
    },
    {
      "cell_type": "code",
      "source": [
        "a==c"
      ],
      "metadata": {
        "colab": {
          "base_uri": "https://localhost:8080/"
        },
        "id": "vRcnJmdc0pNU",
        "outputId": "b101f9ac-fc9f-42ed-b9e4-9fadd29074d8"
      },
      "execution_count": null,
      "outputs": [
        {
          "output_type": "execute_result",
          "data": {
            "text/plain": [
              "True"
            ]
          },
          "metadata": {},
          "execution_count": 139
        }
      ]
    },
    {
      "cell_type": "code",
      "source": [
        "a is c #is는 같은 객체인지를 묻는 것!"
      ],
      "metadata": {
        "colab": {
          "base_uri": "https://localhost:8080/"
        },
        "id": "MBP1_9dg0uBK",
        "outputId": "5b77fa00-5fe5-40b4-a136-5c5a5f1ece9f"
      },
      "execution_count": null,
      "outputs": [
        {
          "output_type": "execute_result",
          "data": {
            "text/plain": [
              "False"
            ]
          },
          "metadata": {},
          "execution_count": 140
        }
      ]
    },
    {
      "cell_type": "code",
      "source": [
        "a=1 #python은 call by reference\n",
        "b=a\n",
        "print(a,b)"
      ],
      "metadata": {
        "colab": {
          "base_uri": "https://localhost:8080/"
        },
        "id": "9zuSXs2h0vFV",
        "outputId": "ea9054cf-d1b0-45f1-eb8b-27f6f0194da6"
      },
      "execution_count": null,
      "outputs": [
        {
          "output_type": "stream",
          "name": "stdout",
          "text": [
            "1 1\n"
          ]
        }
      ]
    },
    {
      "cell_type": "code",
      "source": [
        "b=2"
      ],
      "metadata": {
        "id": "uurC2K5J09dY"
      },
      "execution_count": null,
      "outputs": []
    },
    {
      "cell_type": "code",
      "source": [
        "print(a)"
      ],
      "metadata": {
        "colab": {
          "base_uri": "https://localhost:8080/"
        },
        "id": "Jsx7GXdA0-qH",
        "outputId": "26c49410-9822-4369-cc86-393246e9e71b"
      },
      "execution_count": null,
      "outputs": [
        {
          "output_type": "stream",
          "name": "stdout",
          "text": [
            "1\n"
          ]
        }
      ]
    },
    {
      "cell_type": "code",
      "source": [],
      "metadata": {
        "id": "5UeKynzQ0_2g"
      },
      "execution_count": null,
      "outputs": []
    }
  ]
}