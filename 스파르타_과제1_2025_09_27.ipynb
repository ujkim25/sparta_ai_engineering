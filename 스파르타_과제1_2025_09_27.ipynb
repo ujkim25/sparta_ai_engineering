{
  "nbformat": 4,
  "nbformat_minor": 0,
  "metadata": {
    "colab": {
      "provenance": [],
      "authorship_tag": "ABX9TyOSaQr/zn3GXe/AQYieD5uM",
      "include_colab_link": true
    },
    "kernelspec": {
      "name": "python3",
      "display_name": "Python 3"
    },
    "language_info": {
      "name": "python"
    }
  },
  "cells": [
    {
      "cell_type": "markdown",
      "metadata": {
        "id": "view-in-github",
        "colab_type": "text"
      },
      "source": [
        "<a href=\"https://colab.research.google.com/github/ujkim25/sparta_ai_engineering/blob/main/%EC%8A%A4%ED%8C%8C%EB%A5%B4%ED%83%80_%EA%B3%BC%EC%A0%9C1_2025_09_27.ipynb\" target=\"_parent\"><img src=\"https://colab.research.google.com/assets/colab-badge.svg\" alt=\"Open In Colab\"/></a>"
      ]
    },
    {
      "cell_type": "code",
      "source": [
        "import requests"
      ],
      "metadata": {
        "id": "2EstOd4bgLz0"
      },
      "execution_count": 118,
      "outputs": []
    },
    {
      "cell_type": "code",
      "execution_count": 119,
      "metadata": {
        "id": "ZMTX7F71dR-u"
      },
      "outputs": [],
      "source": [
        "portfolio = {\n",
        "    \"KRW-BTC\":0.1,\n",
        "    \"KRW-ETH\":3,\n",
        "    \"KRW-XRP\":1000\n",
        "}"
      ]
    },
    {
      "cell_type": "code",
      "source": [
        "def format_price(price):\n",
        "    \"\"\"가격을 읽기 쉬운 형태로 포맷팅하는 함수\"\"\"\n",
        "    if price >= 100000000:  # 1억 이상\n",
        "        return f\"{price/100000000:.1f}억원\"\n",
        "    elif price >= 10000:    # 1만 이상\n",
        "        return f\"{price/10000:.1f}만원\"\n",
        "    else:\n",
        "        return f\"{price:,}원\""
      ],
      "metadata": {
        "id": "dcfnXTR_m7vR"
      },
      "execution_count": 120,
      "outputs": []
    },
    {
      "cell_type": "code",
      "source": [
        "def get_current_prices_api():\n",
        "    url = \"https://api.upbit.com/v1/ticker\"\n",
        "    headers = {\"accept\": \"application/json\"}\n",
        "    target_coins = [\"KRW-BTC\", \"KRW-ETH\", \"KRW-XRP\"]\n",
        "    #target_coins = list(portfolio.keys())\n",
        "    markets_param = \",\".join(target_coins)\n",
        "    params = {\"markets\": markets_param}\n",
        "    response = requests.get(url, headers=headers, params=params)\n",
        "    price_data = response.json()\n",
        "    #print(price_data)\n",
        "\n",
        "    prices = {}\n",
        "    for data in price_data:\n",
        "        prices[data['market']]=data['trade_price']\n",
        "\n",
        "    #print(prices)\n",
        "    print(\"\\n주요 암호화폐 현재가:\")\n",
        "    for ticker, price in prices.items():\n",
        "        split_ticker = ticker.split('-')[1]\n",
        "        formatted_price = format_price(price)\n",
        "        print(f\"{split_ticker}: {formatted_price}\")"
      ],
      "metadata": {
        "id": "xgLa2KJidln3"
      },
      "execution_count": 121,
      "outputs": []
    },
    {
      "cell_type": "code",
      "source": [
        "get_current_prices_api()"
      ],
      "metadata": {
        "colab": {
          "base_uri": "https://localhost:8080/"
        },
        "id": "BS_wCcMolLta",
        "outputId": "19acd254-d267-44f7-df86-aee53a82f02a"
      },
      "execution_count": 122,
      "outputs": [
        {
          "output_type": "stream",
          "name": "stdout",
          "text": [
            "\n",
            "주요 암호화폐 현재가:\n",
            "BTC: 1.6억원\n",
            "ETH: 577.0만원\n",
            "XRP: 4,011.0원\n"
          ]
        }
      ]
    },
    {
      "cell_type": "code",
      "source": [
        "def analyze_portfolio():\n",
        "    url = \"https://api.upbit.com/v1/ticker\"\n",
        "    headers = {\"accept\": \"application/json\"}\n",
        "    target_coins = [\"KRW-BTC\", \"KRW-ETH\", \"KRW-XRP\"]\n",
        "    markets_param = \",\".join(target_coins)\n",
        "    params = {\"markets\": markets_param}\n",
        "    response = requests.get(url, headers=headers, params=params)\n",
        "    price_data = response.json()\n",
        "\n",
        "    prices = {}\n",
        "    for data in price_data:\n",
        "        prices[data['market']]=data['trade_price']\n",
        "\n",
        "    # 코인명, 현재가 저장\n",
        "    portfolio_analysis = []\n",
        "    for ticker, price in prices.items():\n",
        "        temp = []\n",
        "        split_ticker = ticker.split('-')[1]\n",
        "        temp.append(split_ticker)\n",
        "        temp.append(price)\n",
        "        portfolio_analysis.append(temp)\n",
        "\n",
        "    # 수량, 가치 저장\n",
        "    for i in range(len(target_coins)):\n",
        "        portfolio_analysis[i].append(portfolio[target_coins[i]])\n",
        "        portfolio_analysis[i].append(portfolio[target_coins[i]]*portfolio_analysis[i][1])\n",
        "\n",
        "    # total_value 계산\n",
        "    total_value = 0\n",
        "    for i in range(len(portfolio_analysis)):\n",
        "        total_value = total_value+portfolio_analysis[i][-1]\n",
        "\n",
        "    # 비중 계산\n",
        "    for i in range(len(portfolio_analysis)):\n",
        "        percentage = portfolio_analysis[i][-1]/total_value*100\n",
        "        portfolio_analysis[i].append(float(f\"{percentage:.2f}\"))\n",
        "\n",
        "    # 분석 결과 출력\n",
        "    print(f\"{\"코인\":>12} {\"수량\":>12} {\"현재가\":>12} {\"가치\":>12} {\"비중\":>12}\")\n",
        "    for i in range(len(portfolio_analysis)):\n",
        "        print(f\"{portfolio_analysis[i][0]:>12} {portfolio_analysis[i][2]:>12} \\\n",
        "        {portfolio_analysis[i][1]:>12} {portfolio_analysis[i][3]:>12} \\\n",
        "        {portfolio_analysis[i][4]:>12}\")\n"
      ],
      "metadata": {
        "id": "v-OA6_BPuUk5"
      },
      "execution_count": 123,
      "outputs": []
    },
    {
      "cell_type": "code",
      "source": [
        "analyze_portfolio()"
      ],
      "metadata": {
        "colab": {
          "base_uri": "https://localhost:8080/"
        },
        "id": "7o6G6Mihw1ni",
        "outputId": "67206059-bf49-4f60-ff57-42e32515d1ab"
      },
      "execution_count": 124,
      "outputs": [
        {
          "output_type": "stream",
          "name": "stdout",
          "text": [
            "          코인           수량          현재가           가치           비중\n",
            "         BTC          0.1          157424000.0   15742400.0                42.47\n",
            "         ETH            3            5770000.0   17310000.0                 46.7\n",
            "         XRP         1000               4011.0    4011000.0                10.82\n"
          ]
        }
      ]
    },
    {
      "cell_type": "code",
      "source": [],
      "metadata": {
        "id": "FR59qnmrzaJx"
      },
      "execution_count": 124,
      "outputs": []
    }
  ]
}